{
 "cells": [
  {
   "cell_type": "markdown",
   "metadata": {},
   "source": [
    "# Variables\n",
    "\n",
    "Variables are categorized by the following:\n",
    "\n",
    "![Variable Categories](images/Variable-Categories.png)\n",
    "\n",
    "## Quantitative variables\n",
    "\n",
    "- **discrete / counting variables**: can only take on a finite number of values\n",
    "- **continuous / interval variables**: numeric scale with meaningful distances between attributes\n",
    "  - **ratio variables**: distance has meaning and there can be meaningful bottom point (equal to zero)\n",
    "\n",
    "\n",
    "## Qualitative / Categorical variables\n",
    "\n",
    "- **ordinal variables**: have implied order (high, medium, low) but can't quantify distances between categories because they may or may not be equal or meaningful\n",
    "- **nominal variables**: do not have any implied order\n",
    "  - **binary / dichotomous / boolean / dummy variables**: on/off, true/false, 0/1 only two states\n",
    "\n",
    "\n",
    "# Measures of Centrality\n",
    "\n",
    "- **measures of centrality / location**: a set of tools we have for describing numerical variables, location meaning location on the real number line, centrality meaning a value representing the center  \n",
    "  - sample mean, sample median, sample mode, skewness, kurtosis  \n",
    "  \n",
    "## Sample mean\n",
    "\n",
    "$$\\bar{x} = \\frac{x_1 + x_2 + ... x_n}{n} =\\frac{\\sum_{i = 1}^{n}x_i}{n}$$\n",
    "- graph: dot plot with mean\n",
    "- sensitive to outliers\n",
    "- when the mean is skewed due to a couple higher outliers it results in a **positive skew**; when the mean skewed due to a couple lower outliers it results in a **negative skew**; this can be measured with **skewness**\n",
    "\n",
    "## Sample median\n",
    "\n",
    "- **sample median** is the middle-most value when lined up in order\n",
    "  - if n is an even number, take the average of the two middle-most values\n",
    "  - not sensitive to outliers\n",
    "\n",
    "- can consider a **trimmed mean** where the top and bottom 10% are disreguarded and mean is taken of the remaining 80%\n",
    "- trimmed mean gets the sensitive mean closer to the insensitive median\n",
    "\n",
    "## Sample mode\n",
    "\n",
    "- **sample mode** is the most frequent value\n",
    "  - there can be 0, 1, or 2+ modes\n",
    "\n",
    "## Quartiles\n",
    "\n",
    "- **quartiles** at 25%, 50% (median) and 75% of data points\n",
    "- graph: box plot\n",
    "\n",
    "## Quantiles\n",
    "\n",
    "- for a fraction 0 <= p <= 1 the p-**quantile** is the number that divides the bottom p% data points from the rest, i.e. the 95th percentile is the value that divides the bottom 95% of data points from the top 5%"
   ]
  },
  {
   "cell_type": "markdown",
   "metadata": {},
   "source": [
    "### Appendix\n",
    "\n",
    "- descriptive vs inferential statistics"
   ]
  },
  {
   "cell_type": "code",
   "execution_count": null,
   "metadata": {},
   "outputs": [],
   "source": []
  }
 ],
 "metadata": {
  "kernelspec": {
   "display_name": "Python 3",
   "language": "python",
   "name": "python3"
  },
  "language_info": {
   "codemirror_mode": {
    "name": "ipython",
    "version": 3
   },
   "file_extension": ".py",
   "mimetype": "text/x-python",
   "name": "python",
   "nbconvert_exporter": "python",
   "pygments_lexer": "ipython3",
   "version": "3.6.5"
  }
 },
 "nbformat": 4,
 "nbformat_minor": 2
}
