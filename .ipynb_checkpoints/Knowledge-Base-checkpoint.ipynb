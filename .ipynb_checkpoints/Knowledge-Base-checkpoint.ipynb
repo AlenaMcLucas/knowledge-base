{
 "cells": [
  {
   "cell_type": "markdown",
   "metadata": {},
   "source": [
    "# Knowledge Base\n",
    "\n",
    "Welcome to my knowledge base. This is the home directory to jump around to different topics quickly.\n",
    "\n",
    "1. [Programming](programming\\Programming.ipynb)\n",
    "2. Statistics\n",
    "3. Machine Learning\n",
    "\n",
    "Forever a work in progress!\n",
    "\n",
    "\\- Alena McLucas"
   ]
  },
  {
   "cell_type": "code",
   "execution_count": null,
   "metadata": {},
   "outputs": [],
   "source": []
  }
 ],
 "metadata": {
  "kernelspec": {
   "display_name": "Python 3",
   "language": "python",
   "name": "python3"
  },
  "language_info": {
   "codemirror_mode": {
    "name": "ipython",
    "version": 3
   },
   "file_extension": ".py",
   "mimetype": "text/x-python",
   "name": "python",
   "nbconvert_exporter": "python",
   "pygments_lexer": "ipython3",
   "version": "3.6.5"
  }
 },
 "nbformat": 4,
 "nbformat_minor": 2
}
