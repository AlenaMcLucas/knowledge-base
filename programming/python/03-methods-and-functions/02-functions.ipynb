{
 "cells": [
  {
   "cell_type": "markdown",
   "metadata": {},
   "source": [
    "# Functions\n",
    "\n",
    "## Introduction to Functions\n",
    "\n",
    "Formally, a function is a useful device that groups together a set of statements so they can be run more than once. They can also let us specify parameters that can serve as inputs to the functions.\n",
    "\n",
    "On a more fundamental level, functions allow us to not have to repeatedly write the same code again and again. Functions will be one of our main building blocks when we construct larger and larger amounts of code to solve problems. If you remember back to the lessons on strings and lists, remember that we used a function len() to get the length of a string. Since checking the length of a sequence is a common task, you would want to write a function that can do this repeatedly at command. Functions will be one of the most basic levels of reusing code in Python, and it will also allow us to start thinking of program design.\n",
    "\n",
    "Another consideration is having each function break off and define specific tasks as part of better program design.\n",
    "\n",
    "Variables created inside functions only live there. Try to keep variables names unique, as duplicate names for different values can cause confusion."
   ]
  },
  {
   "cell_type": "markdown",
   "metadata": {},
   "source": [
    "## def Statements\n",
    "\n",
    "Let's see how to build out a function's syntax in Python:"
   ]
  },
  {
   "cell_type": "code",
   "execution_count": 1,
   "metadata": {},
   "outputs": [],
   "source": [
    "def name_of_function(arg1,arg2):\n",
    "    '''\n",
    "    This is where the function's Document String (doc-string) goes\n",
    "    '''\n",
    "    # Do stuff here\n",
    "    #return desired result"
   ]
  },
  {
   "cell_type": "markdown",
   "metadata": {},
   "source": [
    "We begin with def then a space followed by the name of the function. Try to keep names relevant, for example len() is a good name for a length() function. Also be careful with names, you wouldn't want to call a function the same name as a [built-in function in Python](https://docs.python.org/2/library/functions.html) (such as len).\n",
    "\n",
    "Next come a pair of parenthesis with a number of arguments separated by a comma. These arguments are the inputs for your function. You'll be able to use these inputs in your function and reference them. After this you put a colon.\n",
    "\n",
    "Now here is the important step, you must indent to begin the code inside your function correctly. Python makes use of *whitespace* to organize code. Lots of other programing languages do not do this, so keep that in mind.\n",
    "\n",
    "Next you'll see the doc-string, this is where you write a basic description of the function. Using iPython and iPython Notebooks, you'll be able to read these doc-strings by pressing Shift+Tab after a function name. Doc strings are not necessary for simple functions, but its good practice to put them in so you or other people can easily understand the code you write.\n",
    "\n",
    "If, in the function definition, you set one of the parameters as equal to something, i.e. `arg2=2`, then by default if an argument is not passsed it will hold that value.\n",
    "\n",
    "#### Calling a Function\n",
    "\n",
    "Notice when calling a function, arguments can be passed with or without specifying which parameter they correspond to. Note that, if you give an argument a name, all proceeding arguments must also have a name."
   ]
  },
  {
   "cell_type": "markdown",
   "metadata": {},
   "source": [
    "### Example 1: A simple print 'hello' function"
   ]
  },
  {
   "cell_type": "code",
   "execution_count": 2,
   "metadata": {},
   "outputs": [
    {
     "name": "stdout",
     "output_type": "stream",
     "text": [
      "hello\n"
     ]
    }
   ],
   "source": [
    "# create function\n",
    "def say_hello():\n",
    "    print 'hello'\n",
    "    \n",
    "# call function\n",
    "say_hello()"
   ]
  },
  {
   "cell_type": "markdown",
   "metadata": {},
   "source": [
    "### Example 2: A simple greeting function\n",
    "Let's write a function that greets people with their name."
   ]
  },
  {
   "cell_type": "code",
   "execution_count": 3,
   "metadata": {},
   "outputs": [
    {
     "name": "stdout",
     "output_type": "stream",
     "text": [
      "Hello Jose\n"
     ]
    }
   ],
   "source": [
    "def greeting(name):\n",
    "    print 'Hello %s' %name\n",
    "\n",
    "greeting('Jose')"
   ]
  },
  {
   "cell_type": "code",
   "execution_count": 1,
   "metadata": {},
   "outputs": [
    {
     "name": "stdout",
     "output_type": "stream",
     "text": [
      "5\n",
      "4\n",
      "5\n"
     ]
    }
   ],
   "source": [
    "# don't use a variable to specify a default value because trying to change it later\n",
    "# doesn't work. this is because it is calculated when the function is defined.\n",
    "default_y = 3\n",
    "\n",
    "\n",
    "def add(x, y=default_y):\n",
    "    sum = x + y\n",
    "    print(sum)\n",
    "\n",
    "\n",
    "add(2)  # 5\n",
    "\n",
    "default_y = 4\n",
    "print(default_y)  # 4\n",
    "\n",
    "add(2)  # 5"
   ]
  },
  {
   "cell_type": "markdown",
   "metadata": {},
   "source": [
    "## Using return\n",
    "The return statement allows a function to *return* a result that can then be stored as a variable or used in whatever manner a user wants. Note that as soon as python encounters a `return` statement, the function ends and none of the other code evaluates.\n",
    "\n",
    "### Example 3: Addition function"
   ]
  },
  {
   "cell_type": "code",
   "execution_count": 4,
   "metadata": {},
   "outputs": [
    {
     "data": {
      "text/plain": [
       "9"
      ]
     },
     "execution_count": 4,
     "metadata": {},
     "output_type": "execute_result"
    }
   ],
   "source": [
    "def add_num(num1,num2):\n",
    "    return num1+num2\n",
    "\n",
    "add_num(4,5)"
   ]
  },
  {
   "cell_type": "code",
   "execution_count": 5,
   "metadata": {},
   "outputs": [
    {
     "data": {
      "text/plain": [
       "9"
      ]
     },
     "execution_count": 5,
     "metadata": {},
     "output_type": "execute_result"
    }
   ],
   "source": [
    "# Can also save what's returned as a variable\n",
    "result = add_num(4,5)\n",
    "result"
   ]
  },
  {
   "cell_type": "markdown",
   "metadata": {},
   "source": [
    "What happens if we input two strings?"
   ]
  },
  {
   "cell_type": "code",
   "execution_count": 6,
   "metadata": {},
   "outputs": [
    {
     "name": "stdout",
     "output_type": "stream",
     "text": [
      "onetwo\n"
     ]
    }
   ],
   "source": [
    "print add_num('one','two')"
   ]
  },
  {
   "cell_type": "markdown",
   "metadata": {
    "collapsed": true
   },
   "source": [
    "Note that because we don't declare variable types in Python, this function could be used to add numbers or sequences together.\n",
    "\n",
    "Create a function to check if a number is prime (a common interview exercise). We know a number is prime if that number is only evenly divisible by 1 and itself. Let's write our first version of the function to check all the numbers from 1 to N and perform modulo checks."
   ]
  },
  {
   "cell_type": "code",
   "execution_count": 7,
   "metadata": {
    "collapsed": true
   },
   "outputs": [],
   "source": [
    "def is_prime(num):\n",
    "    '''\n",
    "    Naive method of checking for primes. \n",
    "    '''\n",
    "    for n in range(2,num):\n",
    "        if num % n == 0:\n",
    "            print 'not prime'\n",
    "            break\n",
    "    else:\n",
    "        print 'prime'"
   ]
  },
  {
   "cell_type": "code",
   "execution_count": 8,
   "metadata": {},
   "outputs": [
    {
     "name": "stdout",
     "output_type": "stream",
     "text": [
      "not prime\n"
     ]
    }
   ],
   "source": [
    "is_prime(16)"
   ]
  },
  {
   "cell_type": "markdown",
   "metadata": {},
   "source": [
    "Note how we break the code after the print statement! We can actually improve this by only checking to the square root of the target number, also we can disregard all even numbers after checking for 2. We'll also switch to returning a boolean value to get an example of using return statements:"
   ]
  },
  {
   "cell_type": "code",
   "execution_count": 9,
   "metadata": {},
   "outputs": [],
   "source": [
    "import math\n",
    "\n",
    "def is_prime(num):\n",
    "    '''\n",
    "    Better method of checking for primes. \n",
    "    '''\n",
    "    if num % 2 == 0 and num > 2: \n",
    "        return False\n",
    "    for i in range(3, int(math.sqrt(num)) + 1, 2):\n",
    "        if num % i == 0:\n",
    "            return False\n",
    "    return True"
   ]
  },
  {
   "cell_type": "code",
   "execution_count": 10,
   "metadata": {
    "scrolled": true
   },
   "outputs": [
    {
     "data": {
      "text/plain": [
       "False"
      ]
     },
     "execution_count": 10,
     "metadata": {},
     "output_type": "execute_result"
    }
   ],
   "source": [
    "is_prime(14)"
   ]
  },
  {
   "cell_type": "markdown",
   "metadata": {},
   "source": [
    "## Mutability\n",
    "\n",
    "A mutable datum is one that you can change after it has been created. An immutable datum is one you cannot change.\n",
    "\n",
    "Strings, integers, floats, and tuples are immutable. Dictionaries, lists, and most other objects are mutable.\n",
    "\n",
    "## Argument mutability\n",
    "\n",
    "If we pass a mutable type to a function, we can change it within the scope of the function and have that affect the outer scope; however, an immutable type's change will not be affected by changes in the scope of a function it's passed into.\n",
    "\n",
    "Note that when using operations like `+=`, the same object is mutated. However, using `... = ... + ...` usually results in a new object."
   ]
  },
  {
   "cell_type": "markdown",
   "metadata": {},
   "source": [
    "## Default values for parameters\n",
    "\n",
    "Add a default parameter value along with the parameter name. Note that parameters with default values must come after required parameters (without default values).\n",
    "\n",
    "Do not create mutable default arguments! If you do this, the parameter value will be created when the function is defined and will mutate every time an argument is passed (i.e. when it's a list, it will become 1) `['Rolf']`, `['Rolf', 'Jen']`, etc)."
   ]
  },
  {
   "cell_type": "code",
   "execution_count": 1,
   "metadata": {},
   "outputs": [
    {
     "name": "stdout",
     "output_type": "stream",
     "text": [
      "{'checking': 1958.0, 'savings': 4195.5}\n",
      "{'checking': 2458.0, 'savings': 4195.5}\n"
     ]
    }
   ],
   "source": [
    "accounts = {\n",
    "    'checking': 1958.00,\n",
    "    'savings': 3695.50\n",
    "}\n",
    "\n",
    "def add_balance(amount, name='checking'):\n",
    "    \"\"\"Function to update the balance of an account and return the new balance.\"\"\"\n",
    "    accounts[name] += amount\n",
    "    return accounts[name]\n",
    "\n",
    "add_balance(500.00, 'savings')\n",
    "print(accounts)\n",
    "add_balance(500.00)\n",
    "print(accounts)"
   ]
  },
  {
   "cell_type": "markdown",
   "metadata": {},
   "source": [
    "## Argument unpacking\n",
    "\n",
    "Positionally unpack arguments with an `*`, passing each element of the tuple (in the below case) into the function:"
   ]
  },
  {
   "cell_type": "code",
   "execution_count": 3,
   "metadata": {},
   "outputs": [
    {
     "name": "stdout",
     "output_type": "stream",
     "text": [
      "{'checking': 2483.7299999999996, 'savings': 4516.0}\n"
     ]
    }
   ],
   "source": [
    "accounts = {\n",
    "    'checking': 1958.00,\n",
    "    'savings': 3695.50\n",
    "}\n",
    "\n",
    "def add_balance(amount: float, name: str) -> float:\n",
    "    \"\"\"Function to update the balance of an account and return the new balance.\"\"\"\n",
    "    accounts[name] += amount\n",
    "    return accounts[name]\n",
    "\n",
    "transactions = [\n",
    "  (-180.67, 'checking'),\n",
    "  (-220.00, 'checking'),\n",
    "  (220.00, 'savings'),\n",
    "  (-15.70, 'checking'),\n",
    "  (-23.90, 'checking'),\n",
    "  (-13.00, 'checking'),\n",
    "  (1579.50, 'checking'),\n",
    "  (-600.50, 'checking'),\n",
    "  (600.50, 'savings'),\n",
    "]\n",
    "\n",
    "for t in transactions:\n",
    "    add_balance(*t)\n",
    "\n",
    "print(accounts)"
   ]
  },
  {
   "cell_type": "markdown",
   "metadata": {},
   "source": [
    "## Named arguments\n",
    "\n",
    "Particularly useful if the intepretation of a variable is ambiguous, you can name the arguments passed to the function:"
   ]
  },
  {
   "cell_type": "code",
   "execution_count": 4,
   "metadata": {},
   "outputs": [
    {
     "name": "stdout",
     "output_type": "stream",
     "text": [
      "{'checking': 3009.4599999999996, 'savings': 5336.5}\n"
     ]
    }
   ],
   "source": [
    "for t in transactions:\n",
    "    add_balance(amount=t[0], name=t[1])\n",
    "\n",
    "print(accounts)"
   ]
  },
  {
   "cell_type": "markdown",
   "metadata": {},
   "source": [
    "If you want to unpack a dictionary as named arguments to a function, you can do so using `**`:"
   ]
  },
  {
   "cell_type": "code",
   "execution_count": 5,
   "metadata": {},
   "outputs": [
    {
     "name": "stdout",
     "output_type": "stream",
     "text": [
      "[<__main__.User object at 0x7fe4785bdb80>, <__main__.User object at 0x7fe4785bd3a0>]\n"
     ]
    }
   ],
   "source": [
    "class User:\n",
    "    def __init__(self, username, password):\n",
    "        self.username = username\n",
    "        self.password = password\n",
    "\n",
    "users = [\n",
    "    { 'username': 'rolf', 'password': '123' },\n",
    "    { 'username': 'tecladoisawesome', 'password': 'youaretoo' }\n",
    "]\n",
    "\n",
    "user_objects = [User(**data) for data in users]\n",
    "\n",
    "print(user_objects)"
   ]
  },
  {
   "cell_type": "markdown",
   "metadata": {
    "collapsed": true
   },
   "source": [
    "## lambda functions"
   ]
  },
  {
   "cell_type": "code",
   "execution_count": 3,
   "metadata": {},
   "outputs": [
    {
     "data": {
      "text/plain": [
       "<function __main__.<lambda>(x, y)>"
      ]
     },
     "execution_count": 3,
     "metadata": {},
     "output_type": "execute_result"
    }
   ],
   "source": [
    "# lambda any, arguments, passed: expression to return without return keyword\n",
    "lambda x, y: x / y\n",
    "# if no name, immediately destroys it"
   ]
  },
  {
   "cell_type": "code",
   "execution_count": 4,
   "metadata": {},
   "outputs": [],
   "source": [
    "# equivalent functions, one not lambda and one is\n",
    "def average(sequence):\n",
    "    return sum(sequence)/ len(sequence)\n",
    "\n",
    "average = lambda sequence: sum(sequence) / len(sequence)\n",
    "\n",
    "# note we usually wouldn't create a lambda function this way and assign it to a variable,\n",
    "# but this is for demonstration's sake"
   ]
  },
  {
   "cell_type": "code",
   "execution_count": 5,
   "metadata": {},
   "outputs": [
    {
     "data": {
      "text/plain": [
       "<function __main__.<lambda>(sequence)>"
      ]
     },
     "execution_count": 5,
     "metadata": {},
     "output_type": "execute_result"
    }
   ],
   "source": [
    "# reference to function, but doesn't call it\n",
    "average"
   ]
  },
  {
   "cell_type": "code",
   "execution_count": 6,
   "metadata": {},
   "outputs": [
    {
     "data": {
      "text/plain": [
       "<function __main__.<lambda>(sequence)>"
      ]
     },
     "execution_count": 6,
     "metadata": {},
     "output_type": "execute_result"
    }
   ],
   "source": [
    "# can refer to the function using another variable and call it\n",
    "avg = average\n",
    "avg"
   ]
  },
  {
   "cell_type": "code",
   "execution_count": 7,
   "metadata": {},
   "outputs": [
    {
     "data": {
      "text/plain": [
       "2.0"
      ]
     },
     "execution_count": 7,
     "metadata": {},
     "output_type": "execute_result"
    }
   ],
   "source": [
    "avg([1,2,3])"
   ]
  },
  {
   "cell_type": "markdown",
   "metadata": {},
   "source": [
    "## Annex\n",
    "\n",
    "A first-class function is a function you can pass to another function as an argument. All functions in Python (both named and lambda) are first-class functions."
   ]
  },
  {
   "cell_type": "code",
   "execution_count": null,
   "metadata": {},
   "outputs": [],
   "source": []
  }
 ],
 "metadata": {
  "kernelspec": {
   "display_name": "Python 3",
   "language": "python",
   "name": "python3"
  },
  "language_info": {
   "codemirror_mode": {
    "name": "ipython",
    "version": 3
   },
   "file_extension": ".py",
   "mimetype": "text/x-python",
   "name": "python",
   "nbconvert_exporter": "python",
   "pygments_lexer": "ipython3",
   "version": "3.8.5"
  }
 },
 "nbformat": 4,
 "nbformat_minor": 1
}
