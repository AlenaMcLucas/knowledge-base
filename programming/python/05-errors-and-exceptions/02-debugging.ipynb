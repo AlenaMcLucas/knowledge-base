{
 "cells": [
  {
   "cell_type": "markdown",
   "metadata": {},
   "source": [
    "# Debugging\n",
    "\n",
    "1. Create break points at suspected lines of code. (Code will stop running at the line above that point.)\n",
    "2. Run script in debug mode.\n",
    "3. Use the Variable window to see more information about the contents of current variables.\n",
    "4. Highlight the code in question and click the Calculator icon. Click Evaluate button to run the code. The error may give you enough information to solve the bug.\n",
    "    - Alternatively, you can set variables to different values to see how evaluation changes.\n",
    "5. If not, create another break point in the future and click the Play icon to resume running the code.\n",
    "6. You can use Step Over to move over to the next line in the current scope.\n",
    "7. Step Into moves into a function in the current line.\n",
    "8. Step Out to step back to the function that called your current function.\n",
    "\n",
    "Note that `__repr__` information shows up in PyCharm."
   ]
  },
  {
   "cell_type": "code",
   "execution_count": null,
   "metadata": {},
   "outputs": [],
   "source": []
  }
 ],
 "metadata": {
  "kernelspec": {
   "display_name": "Python 3",
   "language": "python",
   "name": "python3"
  },
  "language_info": {
   "codemirror_mode": {
    "name": "ipython",
    "version": 3
   },
   "file_extension": ".py",
   "mimetype": "text/x-python",
   "name": "python",
   "nbconvert_exporter": "python",
   "pygments_lexer": "ipython3",
   "version": "3.8.5"
  }
 },
 "nbformat": 4,
 "nbformat_minor": 4
}
