{
 "cells": [
  {
   "cell_type": "markdown",
   "metadata": {
    "collapsed": true
   },
   "source": [
    "# Object Oriented Programming\n",
    "\n",
    "Basic Python object:"
   ]
  },
  {
   "cell_type": "code",
   "execution_count": 1,
   "metadata": {
    "collapsed": true
   },
   "outputs": [],
   "source": [
    "l = [1,2,3]"
   ]
  },
  {
   "cell_type": "markdown",
   "metadata": {},
   "source": [
    "We can call methods on the object:"
   ]
  },
  {
   "cell_type": "code",
   "execution_count": 2,
   "metadata": {},
   "outputs": [
    {
     "data": {
      "text/plain": [
       "1"
      ]
     },
     "execution_count": 2,
     "metadata": {},
     "output_type": "execute_result"
    }
   ],
   "source": [
    "l.count(2)"
   ]
  },
  {
   "cell_type": "markdown",
   "metadata": {},
   "source": [
    "We will explore how we can create an Object type like a list.\n",
    "\n",
    "## Objects\n",
    "\n",
    "In Python, *everything is an object*. We can use type() to check the type of object something is:"
   ]
  },
  {
   "cell_type": "code",
   "execution_count": 2,
   "metadata": {},
   "outputs": [
    {
     "name": "stdout",
     "output_type": "stream",
     "text": [
      "<type 'int'>\n",
      "<type 'list'>\n",
      "<type 'tuple'>\n",
      "<type 'dict'>\n"
     ]
    }
   ],
   "source": [
    "print type(1)\n",
    "print type([])\n",
    "print type(())\n",
    "print type({})"
   ]
  },
  {
   "cell_type": "markdown",
   "metadata": {},
   "source": [
    "## class\n",
    "\n",
    "User defined objects are created using the class keyword. The class is a blueprint that defines a nature of a future object. From classes we can construct instances. An instance is a specific object created from a particular class. For example, above we created the object 'l' which was an instance of a list object."
   ]
  },
  {
   "cell_type": "code",
   "execution_count": 4,
   "metadata": {},
   "outputs": [
    {
     "name": "stdout",
     "output_type": "stream",
     "text": [
      "<class '__main__.Sample'>\n"
     ]
    }
   ],
   "source": [
    "# Create a new object type called Sample\n",
    "class Sample(object):\n",
    "    pass\n",
    "\n",
    "# Instance of Sample\n",
    "x = Sample()\n",
    "\n",
    "print type(x)"
   ]
  },
  {
   "cell_type": "markdown",
   "metadata": {},
   "source": [
    "By convention we give classes a name that starts with a capital letter. Note how x is now the reference to our new instance of a Sample class. In other words, we **instantiate** the Sample class.\n",
    "\n",
    "Inside of the class we currently just have pass. But we can define class attributes and methods. An **attribute** is a characteristic of an object. A **method** is an operation we can perform with the object (called a **function** outside of an object).\n",
    "\n",
    "For example we can create a class called Dog. An attribute of a dog may be its breed or its name, while a method of a dog may be defined by a .bark() method which returns a sound.\n",
    "\n",
    "## Attributes\n",
    "\n",
    "The syntax for creating an attribute is:\n",
    "    \n",
    "    self.attribute = something\n",
    "    \n",
    "There is a special method called:\n",
    "\n",
    "    __init__()\n",
    "\n",
    "This method is used to initialize the attributes of an object."
   ]
  },
  {
   "cell_type": "code",
   "execution_count": 3,
   "metadata": {
    "collapsed": true
   },
   "outputs": [],
   "source": [
    "class Dog(object):\n",
    "    def __init__(self,breed):\n",
    "        self.breed = breed\n",
    "        \n",
    "sam = Dog(breed='Lab')\n",
    "frank = Dog(breed='Huskie')"
   ]
  },
  {
   "cell_type": "markdown",
   "metadata": {},
   "source": [
    "Lets break down what we have above.The special method \n",
    "\n",
    "    __init__() \n",
    "is called automatically right after the object has been created:\n",
    "\n",
    "    def __init__(self, breed):\n",
    "Each attribute in a class definition begins with a reference to the instance object. It is by convention named self. The breed is the argument. The value is passed during the class instantiation.\n",
    "\n",
    "     self.breed = breed"
   ]
  },
  {
   "cell_type": "markdown",
   "metadata": {},
   "source": [
    "Now we have created two instances of the Dog class. With two breed types, we can then access these attributes like this:"
   ]
  },
  {
   "cell_type": "code",
   "execution_count": 4,
   "metadata": {},
   "outputs": [
    {
     "name": "stdout",
     "output_type": "stream",
     "text": [
      "Lab\n",
      "Huskie\n"
     ]
    }
   ],
   "source": [
    "print sam.breed\n",
    "print frank.breed"
   ]
  },
  {
   "cell_type": "markdown",
   "metadata": {},
   "source": [
    "Note how we don't have any parenthesis after breed, this is because it is an attribute and doesn't take any arguments.\n",
    "\n",
    "In Python there are also *class object attributes*. These Class Object Attributes are the same for any instance of the class. For example, we could create the attribute *species* for the Dog class. Dogs (regardless of their breed,name, or other attributes will always be mammals. We apply this logic in the following manner:"
   ]
  },
  {
   "cell_type": "code",
   "execution_count": 5,
   "metadata": {},
   "outputs": [
    {
     "data": {
      "text/plain": [
       "'Sam'"
      ]
     },
     "execution_count": 5,
     "metadata": {},
     "output_type": "execute_result"
    }
   ],
   "source": [
    "class Dog(object):\n",
    "    \n",
    "    # Class Object Attribute\n",
    "    species = 'mammal'\n",
    "    \n",
    "    def __init__(self,breed,name):\n",
    "        self.breed = breed\n",
    "        self.name = name\n",
    "\n",
    "sam = Dog('Lab','Sam')\n",
    "sam.name"
   ]
  },
  {
   "cell_type": "markdown",
   "metadata": {},
   "source": [
    "Note that the Class Object Attribute is defined outside of any methods in the class. Also by convention, we place them first before the init."
   ]
  },
  {
   "cell_type": "code",
   "execution_count": 6,
   "metadata": {},
   "outputs": [
    {
     "data": {
      "text/plain": [
       "'mammal'"
      ]
     },
     "execution_count": 6,
     "metadata": {},
     "output_type": "execute_result"
    }
   ],
   "source": [
    "sam.species"
   ]
  },
  {
   "cell_type": "markdown",
   "metadata": {},
   "source": [
    "## Methods\n",
    "\n",
    "Methods are functions defined inside the body of a class. They are used to perform operations with the attributes of our objects. Methods are essential in encapsulation concept of the OOP paradigm. This is essential in dividing responsibilities in programming, especially in large applications.\n",
    "\n",
    "You can basically think of methods as functions acting on an Object that take the Object itself into account through its *self* argument."
   ]
  },
  {
   "cell_type": "code",
   "execution_count": 1,
   "metadata": {},
   "outputs": [
    {
     "name": "stdout",
     "output_type": "stream",
     "text": [
      "Radius is:  2\n",
      "Area is:  12.56\n",
      "Radius is:  2\n",
      "Area is:  12.56\n"
     ]
    }
   ],
   "source": [
    "class Circle(object):\n",
    "    pi = 3.14\n",
    "\n",
    "    # Circle get instantiated with a radius (default is 1)\n",
    "    def __init__(self, radius=1):\n",
    "        self.radius = radius \n",
    "\n",
    "    # Area method calculates the area. Note the use of self.\n",
    "    def area(self):\n",
    "        return self.radius * self.radius * Circle.pi\n",
    "\n",
    "    # Method for resetting Radius\n",
    "    def setRadius(self, radius):\n",
    "        self.radius = radius\n",
    "\n",
    "    # Method for getting radius (Same as just calling .radius)\n",
    "    def getRadius(self):\n",
    "        return self.radius\n",
    "\n",
    "\n",
    "c = Circle()\n",
    "\n",
    "c.setRadius(2)\n",
    "print('Radius is: ', c.getRadius())\n",
    "print('Area is: ', c.area())\n",
    "\n",
    "# alternative way to do the same thing, but the former is preferred\n",
    "print('Radius is: ', Circle.getRadius(c))\n",
    "print('Area is: ', Circle.area(c))"
   ]
  },
  {
   "cell_type": "markdown",
   "metadata": {},
   "source": [
    "Notice how we used self. notation to reference attributes of the class within the method calls.\n",
    "\n",
    "## Inheritance\n",
    "\n",
    "Inheritance is a way to form new classes using classes that have already been defined. The newly formed classes are called derived classes, the classes that we derive from are called base classes. Important benefits of inheritance are code reuse and reduction of complexity of a program. The derived classes (descendants) override or extend the functionality of base classes (ancestors).\n",
    "\n",
    "Lets see an example by incorporating our previous work on the Dog class:"
   ]
  },
  {
   "cell_type": "code",
   "execution_count": 19,
   "metadata": {},
   "outputs": [],
   "source": [
    "class Animal(object):\n",
    "    def __init__(self):\n",
    "        print(\"Animal created\")\n",
    "\n",
    "    def whoAmI(self):\n",
    "        print(\"Animal\")\n",
    "\n",
    "    def eat(self):\n",
    "        print(\"Eating\")\n",
    "\n",
    "\n",
    "class Dog(Animal):\n",
    "    def __init__(self):\n",
    "        super().__init__()        # initialize animal instance, version 1\n",
    "#         Animal.__init__(self)   # initialize animal instance, version 2\n",
    "        print(\"Dog created\")\n",
    "\n",
    "    def whoAmI(self):\n",
    "        print(\"Dog\")\n",
    "\n",
    "    def bark(self):\n",
    "        print(\"Woof!\")"
   ]
  },
  {
   "cell_type": "code",
   "execution_count": 20,
   "metadata": {},
   "outputs": [
    {
     "name": "stdout",
     "output_type": "stream",
     "text": [
      "Animal created\n",
      "Dog created\n"
     ]
    }
   ],
   "source": [
    "d = Dog()"
   ]
  },
  {
   "cell_type": "code",
   "execution_count": 21,
   "metadata": {},
   "outputs": [
    {
     "name": "stdout",
     "output_type": "stream",
     "text": [
      "Dog\n"
     ]
    }
   ],
   "source": [
    "d.whoAmI()"
   ]
  },
  {
   "cell_type": "code",
   "execution_count": 22,
   "metadata": {},
   "outputs": [
    {
     "name": "stdout",
     "output_type": "stream",
     "text": [
      "Eating\n"
     ]
    }
   ],
   "source": [
    "d.eat()"
   ]
  },
  {
   "cell_type": "code",
   "execution_count": 23,
   "metadata": {},
   "outputs": [
    {
     "name": "stdout",
     "output_type": "stream",
     "text": [
      "Woof!\n"
     ]
    }
   ],
   "source": [
    "d.bark()"
   ]
  },
  {
   "cell_type": "markdown",
   "metadata": {},
   "source": [
    "In this example, we have two classes: Animal and Dog. The Animal is the base/super class, the Dog is the derived/sub class. \n",
    "\n",
    "The derived class inherits the functionality of the base class. \n",
    "\n",
    "* It is shown by the eat() method. \n",
    "\n",
    "The derived class modifies existing behavior of the base class.\n",
    "\n",
    "* shown by the whoAmI() method. \n",
    "\n",
    "Finally, the derived class extends the functionality of the base class, by defining a new bark() method."
   ]
  },
  {
   "cell_type": "markdown",
   "metadata": {},
   "source": [
    "### Multiple Inheritance\n",
    "\n",
    "You can also have multiple inheritance, where you pass multiple classes for one to inherit from:"
   ]
  },
  {
   "cell_type": "code",
   "execution_count": 1,
   "metadata": {},
   "outputs": [],
   "source": [
    "class Database:\n",
    "    content = {'users': []}\n",
    "\n",
    "    @classmethod\n",
    "    def insert(cls, data):\n",
    "        cls.content['users'].append(data)\n",
    "    \n",
    "    @classmethod\n",
    "    def remove(cls, finder):\n",
    "        cls.content['users'] = [user for user in cls.content['users'] if not finder(user)]\n",
    "    \n",
    "    @classmethod\n",
    "    def find(cls, finder):\n",
    "        return [user for user in cls.content['users'] if finder(user)]\n",
    "    \n",
    "\n",
    "class User:\n",
    "    def __init__(self, username, password):\n",
    "        self.username = username\n",
    "        self.password = password\n",
    "    \n",
    "    def login(self):\n",
    "        return 'Logged in!'\n",
    "    \n",
    "    def __repr__(self):\n",
    "        return f'<User {self.username}>'\n",
    "\n",
    "\n",
    "class Saveable:\n",
    "    def save(self):\n",
    "        Database.insert(self.to_dict())"
   ]
  },
  {
   "cell_type": "code",
   "execution_count": 2,
   "metadata": {},
   "outputs": [],
   "source": [
    "class Admin(User, Saveable):\n",
    "    def __init__(self, username, password, access):\n",
    "        super(Admin, self).__init__(username, password)\n",
    "        self.access = access\n",
    "    \n",
    "    def __repr__(self):\n",
    "        return f'<Admin {self.username}, access {self.access}>'\n",
    "\n",
    "    def to_dict(self):\n",
    "        return {\n",
    "            'username': self.username,\n",
    "            'password': self.password,\n",
    "            'access': self.access\n",
    "        }"
   ]
  },
  {
   "cell_type": "code",
   "execution_count": 3,
   "metadata": {},
   "outputs": [
    {
     "name": "stdout",
     "output_type": "stream",
     "text": [
      "paco\n"
     ]
    }
   ],
   "source": [
    "a = Admin('paco', 'perez', 2)\n",
    "b = Admin('rolf', 'smith', 1)\n",
    "\n",
    "a.save()\n",
    "b.save()\n",
    "\n",
    "user = Database.find(lambda x: x['username'] == 'paco')[0]\n",
    "user_obj = Admin(**user)\n",
    "print(user_obj.username)"
   ]
  },
  {
   "cell_type": "markdown",
   "metadata": {},
   "source": [
    "When a method is called on Admin, it first seaches the Admin class, then the User class, and then the Saveable class.\n",
    "\n",
    "Below is a fix for the Saveable class not having a `to_dict()` method using an abstract class (see the last section of this notebook):"
   ]
  },
  {
   "cell_type": "code",
   "execution_count": 11,
   "metadata": {},
   "outputs": [],
   "source": [
    "from abc import ABCMeta, abstractmethod\n",
    "\n",
    "class Saveable:\n",
    "    def save(self):\n",
    "        Database.insert(self.to_dict())\n",
    "    \n",
    "    @abstractmethod\n",
    "    def to_dict(self):\n",
    "        pass"
   ]
  },
  {
   "cell_type": "markdown",
   "metadata": {},
   "source": [
    "Make sure you implement this method in any class that inherits from Saveable.\n",
    "\n",
    "Below is another example of multiple inheritance with passing arguments:"
   ]
  },
  {
   "cell_type": "code",
   "execution_count": 4,
   "metadata": {},
   "outputs": [],
   "source": [
    "class Salary:\n",
    "    def calculate(self, hours: float) -> float:\n",
    "        return self.rate * hours\n",
    "\n",
    "\n",
    "class Promotable:\n",
    "    def promote(self, _raise: float) -> None:  # _raise so it doesn't clash with Python's raise keyword!\n",
    "        self.rate += _raise\n",
    "\n",
    "\n",
    "class Employee(Salary, Promotable):\n",
    "    def __init__(self, rate: float):\n",
    "        self.rate = rate\n",
    "\n",
    "    def weekly_salary(self) -> float:\n",
    "        return self.calculate(40)"
   ]
  },
  {
   "cell_type": "code",
   "execution_count": 5,
   "metadata": {},
   "outputs": [
    {
     "name": "stdout",
     "output_type": "stream",
     "text": [
      "600.0\n",
      "800.0\n"
     ]
    }
   ],
   "source": [
    "rolf = Employee(15.0)\n",
    "print(rolf.weekly_salary())\n",
    "rolf.promote(5.0)\n",
    "print(rolf.weekly_salary())"
   ]
  },
  {
   "cell_type": "markdown",
   "metadata": {},
   "source": [
    "## Special (Dunder) Methods\n",
    "\n",
    "Classes in Python can implement certain operations with special method names. These methods are not actually called directly but by Python specific language syntax. For example lets create a Book class:"
   ]
  },
  {
   "cell_type": "code",
   "execution_count": 13,
   "metadata": {
    "collapsed": true
   },
   "outputs": [],
   "source": [
    "class Book(object):\n",
    "    def __init__(self, title, author, pages):\n",
    "        print \"A book is created\"\n",
    "        self.title = title\n",
    "        self.author = author\n",
    "        self.pages = pages\n",
    "\n",
    "    def __str__(self):\n",
    "        return \"Title:%s , author:%s, pages:%s \" %(self.title, self.author, self.pages)\n",
    "\n",
    "    def __len__(self):\n",
    "        return self.pages\n",
    "\n",
    "    def __del__(self):\n",
    "        print \"A book is destroyed\""
   ]
  },
  {
   "cell_type": "code",
   "execution_count": 14,
   "metadata": {},
   "outputs": [
    {
     "name": "stdout",
     "output_type": "stream",
     "text": [
      "A book is created\n",
      "Title:Python Rocks! , author:Jose Portilla, pages:159 \n",
      "159\n",
      "A book is destroyed\n"
     ]
    }
   ],
   "source": [
    "book = Book(\"Python Rocks!\", \"Jose Portilla\", 159)\n",
    "\n",
    "#Special Methods\n",
    "print book\n",
    "print len(book)\n",
    "del book"
   ]
  },
  {
   "cell_type": "markdown",
   "metadata": {},
   "source": [
    "Special methods:\n",
    "- `__init__(self)`\n",
    "- `__str__(self)` -> return a readable string about the object, user wants to read\n",
    "- `__len__(self)`\n",
    "- `__del__(self)`\n",
    "- `__getitem__(self, index)` -> return item at an index\n",
    "- `__repr()__(self)` -> return a string that represents the object, more codified\n",
    "- `__iter__` + `__next__` -> create an iterable object\n",
    "These special methods are defined by their use of underscores. They allow us to use Python specific functions on objects created through our class.\n",
    "- Without defining anything in the class, by writing a docstring you can return it as a string with `object.__doc__`"
   ]
  },
  {
   "cell_type": "markdown",
   "metadata": {},
   "source": [
    "List of known dunder methods for classes and what they do:\n",
    "\n",
    "- \\__init\\__(self, arg1, arg2, ...): runs once when the class is instantiated\n",
    "\n",
    "There's also a special guest `__class__` that can be called like a class method (i.e. `student_1.__class__`) to return the class of the object."
   ]
  },
  {
   "cell_type": "code",
   "execution_count": 10,
   "metadata": {},
   "outputs": [
    {
     "name": "stdout",
     "output_type": "stream",
     "text": [
      "<class '__main__.Student'>\n",
      "91.6\n",
      "5\n",
      "93\n",
      "Alena's grades are 91.6.\n",
      "Alena's grades are 91.6.\n"
     ]
    }
   ],
   "source": [
    "class Student:\n",
    "    def __init__(self, name, grades):\n",
    "        self.name = name\n",
    "        self.grades = grades\n",
    "        \n",
    "    def __len__(self):\n",
    "        return len(self.grades)\n",
    "    \n",
    "    def __getitem__(self, i):\n",
    "        return self.grades[i]\n",
    "    \n",
    "    def __repr__(self):\n",
    "        return f'{self.name}\\'s grades are {self.grades}.'\n",
    "    \n",
    "    def __str__(self):\n",
    "        return f'{self.name}\\'s grades are {self.average()}.'\n",
    "    \n",
    "    def average(self):\n",
    "        return sum(self.grades) / len(self.grades)\n",
    "\n",
    "\n",
    "student_1 = Student(\"Alena\", [90, 93, 91, 89, 95])\n",
    "print(student_1.__class__)\n",
    "print(student_1.average())\n",
    "print(len(student_1))\n",
    "print(student_1[1])\n",
    "print(student_1)\n",
    "print(str(student_1))"
   ]
  },
  {
   "cell_type": "markdown",
   "metadata": {},
   "source": [
    "Prefer the `__repr__` method over `__str__`. Note that if you declare a `__str__` method it will override `__repr__` if you try to print the object."
   ]
  },
  {
   "cell_type": "markdown",
   "metadata": {},
   "source": [
    "Your classes in Python can implement a magic method, `__bool__`, which will tell `bool()`, `if` statements, and the `sort`, whether your object should evaluate to `True` or `False`.\n",
    "\n",
    "If you don't implement `__bool__`, then `__len__` will be used—if it returns 0, it will evaluate to `False`; otherwise it will evaluate to `True`."
   ]
  },
  {
   "cell_type": "markdown",
   "metadata": {},
   "source": [
    "# Decorators\n",
    "\n",
    "In the first basic example below, we change a no-argument method into something that can be accessed as a property / attribute:"
   ]
  },
  {
   "cell_type": "code",
   "execution_count": 25,
   "metadata": {},
   "outputs": [],
   "source": [
    "class WorkingStudent(Student):\n",
    "    def __init__(self, name, grades, salary):\n",
    "        super().__init__(name, grades)\n",
    "        self.salary = salary\n",
    "    \n",
    "    @property\n",
    "    def weekly_salary(self):\n",
    "        return self.salary * 40"
   ]
  },
  {
   "cell_type": "code",
   "execution_count": 26,
   "metadata": {},
   "outputs": [
    {
     "name": "stdout",
     "output_type": "stream",
     "text": [
      "620.0\n"
     ]
    }
   ],
   "source": [
    "rolf = WorkingStudent('Rolf', 'MIT', 15.50)\n",
    "print(rolf.weekly_salary)"
   ]
  },
  {
   "cell_type": "markdown",
   "metadata": {},
   "source": [
    "In another decorator example, we consider that there are three types of classes:\n",
    "- Instance method: takes the instance/object as their first argument\n",
    "    - Use this when you want to have access to the instance of the class\n",
    "- Class method: takes the class as their first argument\n",
    "    - Use this when you want to have access to the class\n",
    "- Static method: takes nothing as their first argument\n",
    "    - Use this when it doesn't use the current object or the class, but is somehow related\n",
    "    \n",
    "The latter two allow us to modify what the method takes in."
   ]
  },
  {
   "cell_type": "code",
   "execution_count": 30,
   "metadata": {},
   "outputs": [
    {
     "name": "stdout",
     "output_type": "stream",
     "text": [
      "Foo\n"
     ]
    }
   ],
   "source": [
    "class Foo:\n",
    "    @classmethod\n",
    "    def hi(cls):\n",
    "        print(cls.__name__)\n",
    "        \n",
    "my_object = Foo()\n",
    "my_object.hi()"
   ]
  },
  {
   "cell_type": "code",
   "execution_count": 31,
   "metadata": {},
   "outputs": [
    {
     "name": "stdout",
     "output_type": "stream",
     "text": [
      "Hello, I don't take parameters.\n"
     ]
    }
   ],
   "source": [
    "class Bar:\n",
    "    @staticmethod\n",
    "    def hi():\n",
    "        print(\"Hello, I don't take parameters.\")\n",
    "\n",
    "my_bar = Bar()\n",
    "my_bar.hi()"
   ]
  },
  {
   "cell_type": "markdown",
   "metadata": {},
   "source": [
    "After understanding the syntax above, take a look at the below example to see a better practice implementation."
   ]
  },
  {
   "cell_type": "code",
   "execution_count": 34,
   "metadata": {},
   "outputs": [
    {
     "name": "stdout",
     "output_type": "stream",
     "text": [
      "<FixedFloat: 20.36>\n",
      "<Euro E20.36>\n"
     ]
    }
   ],
   "source": [
    "class FixedFloat:\n",
    "    def __init__(self, amount):\n",
    "        self.amount = amount\n",
    "        \n",
    "    def __repr__(self):\n",
    "        return f'<FixedFloat: {self.amount:.2f}>'\n",
    "    \n",
    "#     convert this from static to class method so it returns Euro, not FixedFloat\n",
    "#     @staticmethod\n",
    "#     def from_sum(value1, value2):\n",
    "#         return FixedFloat(value1 + value2)\n",
    "\n",
    "    @classmethod\n",
    "    def from_sum(cls, value1, value2):\n",
    "        return cls(value1 + value2)\n",
    "    \n",
    "number = FixedFloat.from_sum(19.575, 0.789)\n",
    "print(number)\n",
    "\n",
    "\n",
    "class Euro(FixedFloat):\n",
    "    def __init__(self, amount):\n",
    "        super().__init__(amount)\n",
    "        self.symbol = 'E'\n",
    "        \n",
    "    def __repr__(self):\n",
    "        return f'<Euro {self.symbol}{self.amount:.2f}>'\n",
    "    \n",
    "money = Euro.from_sum(19.575, 0.789)\n",
    "print(money)"
   ]
  },
  {
   "cell_type": "markdown",
   "metadata": {},
   "source": [
    "In practice, most of the time static methods should really be class methods because you don't know if it will be inherited. Use static methods when you have a reason to ensure inheritance won't affect the method."
   ]
  },
  {
   "cell_type": "markdown",
   "metadata": {},
   "source": [
    "For more great resources on this topic, check out:\n",
    "\n",
    "[Jeff Knupp's Post](https://www.jeffknupp.com/blog/2014/06/18/improve-your-python-python-classes-and-object-oriented-programming/)\n",
    "\n",
    "[Mozilla's Post](https://developer.mozilla.org/en-US/Learn/Python/Quickly_Learn_Object_Oriented_Programming)\n",
    "\n",
    "[Tutorial's Point](http://www.tutorialspoint.com/python/python_classes_objects.htm)\n",
    "\n",
    "[Official Documentation](https://docs.python.org/2/tutorial/classes.html)"
   ]
  },
  {
   "cell_type": "markdown",
   "metadata": {
    "collapsed": true
   },
   "source": [
    "## ABCs\n",
    "\n",
    "**ABC**, or abstract base class, is a decorator that abstractly creates a method, but leaves it up to the child classes to define it in their particular use case. It also doesn't allow you to instantiate the class itself (in this case, because we need to know more than understanding it's a generic animal):"
   ]
  },
  {
   "cell_type": "code",
   "execution_count": 6,
   "metadata": {},
   "outputs": [],
   "source": [
    "from abc import ABCMeta, abstractmethod\n",
    "\n",
    "class Animal(metaclass=ABCMeta):\n",
    "    def walk(self):\n",
    "        print('Walking...')\n",
    "    \n",
    "    def eat(self):\n",
    "        print('Eating...')\n",
    "    \n",
    "    @abstractmethod\n",
    "    def num_legs():\n",
    "        pass"
   ]
  },
  {
   "cell_type": "code",
   "execution_count": 7,
   "metadata": {},
   "outputs": [],
   "source": [
    "class Dog(Animal):\n",
    "    def __init__(self, name):\n",
    "        self.name = name\n",
    "    \n",
    "    def num_legs(self):\n",
    "        return 4\n",
    "    \n",
    "class Monkey(Animal):\n",
    "    def __init__(self, name):\n",
    "        self.name = name\n",
    "        \n",
    "    def num_legs(self):\n",
    "        return 2"
   ]
  },
  {
   "cell_type": "code",
   "execution_count": 8,
   "metadata": {},
   "outputs": [
    {
     "name": "stdout",
     "output_type": "stream",
     "text": [
      "4\n",
      "2\n"
     ]
    }
   ],
   "source": [
    "d = Dog('Rolf')\n",
    "print(d.num_legs())\n",
    "\n",
    "m = Monkey('Mr. Banana')\n",
    "print(m.num_legs())"
   ]
  },
  {
   "cell_type": "code",
   "execution_count": 9,
   "metadata": {},
   "outputs": [
    {
     "ename": "TypeError",
     "evalue": "Can't instantiate abstract class Animal with abstract methods num_legs",
     "output_type": "error",
     "traceback": [
      "\u001b[0;31m---------------------------------------------------------------------------\u001b[0m",
      "\u001b[0;31mTypeError\u001b[0m                                 Traceback (most recent call last)",
      "\u001b[0;32m<ipython-input-9-2a6156927c44>\u001b[0m in \u001b[0;36m<module>\u001b[0;34m\u001b[0m\n\u001b[0;32m----> 1\u001b[0;31m \u001b[0ma\u001b[0m \u001b[0;34m=\u001b[0m \u001b[0mAnimal\u001b[0m\u001b[0;34m(\u001b[0m\u001b[0;34m)\u001b[0m\u001b[0;34m\u001b[0m\u001b[0;34m\u001b[0m\u001b[0m\n\u001b[0m",
      "\u001b[0;31mTypeError\u001b[0m: Can't instantiate abstract class Animal with abstract methods num_legs"
     ]
    }
   ],
   "source": [
    "a = Animal()"
   ]
  },
  {
   "cell_type": "markdown",
   "metadata": {},
   "source": [
    "Abstract classes are helpful because\n",
    "\n",
    "1. You can look at Animal and know that all animals must have implemented `num_legs()`.\n",
    "2. Because of this, you can iterate over all objects that inherit from the Animal class and know that you can safely call any abstract methods.\n",
    "3. It forces subclasses to implement methods it needs (see first multiple inheritance example)."
   ]
  },
  {
   "cell_type": "code",
   "execution_count": 10,
   "metadata": {},
   "outputs": [
    {
     "name": "stdout",
     "output_type": "stream",
     "text": [
      "True\n",
      "4\n",
      "True\n",
      "2\n"
     ]
    }
   ],
   "source": [
    "animals = [Dog('Rolf'), Monkey('Mr. Banana')]\n",
    "for a in animals:\n",
    "    print(isinstance(a, Animal))\n",
    "    print(a.num_legs())"
   ]
  },
  {
   "cell_type": "markdown",
   "metadata": {},
   "source": [
    "## Property setter\n",
    "\n",
    "Note that using `@property` lets you access a method like a property -> `my_object.departure_point`. Using `@property.setter` lets you accept values using an assignment expression on that property name -> `my_object.departure_point = 'Something'`. "
   ]
  },
  {
   "cell_type": "code",
   "execution_count": 13,
   "metadata": {},
   "outputs": [],
   "source": [
    "class Flight:\n",
    "    def __init__(self, segments):\n",
    "        \"\"\"\n",
    "        Creates a new Flight wrapper object from an arbitrary number of segments.\n",
    "        :param segments: a list of segments in this flight—normally just one.\n",
    "        \"\"\"\n",
    "        self.segments = segments\n",
    "    \n",
    "    def __repr__(self):\n",
    "        \"\"\"Returns string in format of GLA -> LHR -> CAN.\"\"\"\n",
    "        stops = [self.segments[0].departure, self.segments[0].destination]\n",
    "        for seg in self.segments[1:]:\n",
    "            stops.append(seg.destination)\n",
    "        \n",
    "        return ' -> '.join(stops)\n",
    "    \n",
    "    @property\n",
    "    def departure_point(self):\n",
    "        return self.segments[0].departure\n",
    "    \n",
    "    # setter property\n",
    "    @departure_point.setter\n",
    "    def departure_point(self, val):\n",
    "        dest = self.segments[0].destination\n",
    "        self.segments[0] = Segment(departure=val, destination=dest)\n",
    "    \n",
    "\n",
    "class Segment:\n",
    "    def __init__(self, departure, destination):\n",
    "        self.departure = departure   # GLA\n",
    "        self.destination = destination   # LHR"
   ]
  },
  {
   "cell_type": "code",
   "execution_count": 14,
   "metadata": {},
   "outputs": [
    {
     "name": "stdout",
     "output_type": "stream",
     "text": [
      "EDI\n",
      "EDI -> LHR -> CAN\n",
      "...Set departure to GLA...\n",
      "GLA\n",
      "GLA -> LHR -> CAN\n"
     ]
    }
   ],
   "source": [
    "seg = [Segment('EDI', 'LHR'), Segment('LHR', 'CAN')]\n",
    "flight = Flight(seg)\n",
    "\n",
    "print(flight.departure_point)\n",
    "print(flight)\n",
    "\n",
    "flight.departure_point = 'GLA'\n",
    "print('...Set departure to GLA...')\n",
    "\n",
    "print(flight.departure_point)\n",
    "print(flight)"
   ]
  },
  {
   "cell_type": "code",
   "execution_count": null,
   "metadata": {},
   "outputs": [],
   "source": []
  }
 ],
 "metadata": {
  "kernelspec": {
   "display_name": "Python 3",
   "language": "python",
   "name": "python3"
  },
  "language_info": {
   "codemirror_mode": {
    "name": "ipython",
    "version": 3
   },
   "file_extension": ".py",
   "mimetype": "text/x-python",
   "name": "python",
   "nbconvert_exporter": "python",
   "pygments_lexer": "ipython3",
   "version": "3.8.5"
  }
 },
 "nbformat": 4,
 "nbformat_minor": 1
}
