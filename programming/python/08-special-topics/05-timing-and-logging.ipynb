{
 "cells": [
  {
   "cell_type": "markdown",
   "metadata": {},
   "source": [
    "# Timing your module\n",
    "\n",
    "Look at your current time, run the code, subtract one from the other:"
   ]
  },
  {
   "cell_type": "code",
   "execution_count": 2,
   "metadata": {},
   "outputs": [
    {
     "name": "stdout",
     "output_type": "stream",
     "text": [
      "0.19028377532958984\n"
     ]
    }
   ],
   "source": [
    "import time\n",
    "\n",
    "def powers(limit):\n",
    "    return [x**2 for x in range(limit)]\n",
    "\n",
    "start = time.time()   # time since 1970\n",
    "powers(500000)\n",
    "end = time.time()\n",
    "print(end - start)   # result is in seconds"
   ]
  },
  {
   "cell_type": "markdown",
   "metadata": {},
   "source": [
    "Create a function to not repeat timing code:"
   ]
  },
  {
   "cell_type": "code",
   "execution_count": 3,
   "metadata": {},
   "outputs": [
    {
     "name": "stdout",
     "output_type": "stream",
     "text": [
      "0.17400074005126953\n"
     ]
    }
   ],
   "source": [
    "def measure_runtime(func):\n",
    "    start = time.time()\n",
    "    func()\n",
    "    end = time.time()\n",
    "    print(end - start)\n",
    "    \n",
    "measure_runtime(lambda: powers(500000))"
   ]
  },
  {
   "cell_type": "markdown",
   "metadata": {},
   "source": [
    "You can also use the below function to time your code, which will run it many times and will tell you the total or average time of those tests:"
   ]
  },
  {
   "cell_type": "code",
   "execution_count": 6,
   "metadata": {},
   "outputs": [
    {
     "name": "stdout",
     "output_type": "stream",
     "text": [
      "13.66088291699998\n"
     ]
    }
   ],
   "source": [
    "import timeit\n",
    "\n",
    "print(timeit.timeit(\"[x**2 for x in range(50)]\"))"
   ]
  },
  {
   "cell_type": "markdown",
   "metadata": {},
   "source": [
    "# Logging\n",
    "\n",
    "Logging prints things out to consoles or files. **Logs** represent everything that happened in your application. Useful for developers as apps grow. Note that logs append to themselves."
   ]
  },
  {
   "cell_type": "code",
   "execution_count": 7,
   "metadata": {},
   "outputs": [
    {
     "name": "stderr",
     "output_type": "stream",
     "text": [
      "This will.\n"
     ]
    }
   ],
   "source": [
    "import logging\n",
    "\n",
    "logger = logging.getLogger('test_logger')\n",
    "\n",
    "logger.info('This will not show up.')\n",
    "logger.warning('This will.')"
   ]
  },
  {
   "cell_type": "markdown",
   "metadata": {},
   "source": [
    "Logging levels:\n",
    "- Debug: for development\n",
    "- Info: important information\n",
    "- Warning: should surface when it's running\n",
    "- Error: hitting an error\n",
    "- Critical: app will crash\n",
    "\n",
    "\"debug\" and \"info\" do not show up on logs by default."
   ]
  },
  {
   "cell_type": "code",
   "execution_count": 9,
   "metadata": {},
   "outputs": [
    {
     "name": "stderr",
     "output_type": "stream",
     "text": [
      "INFO:test_logger:Shows up now.\n"
     ]
    }
   ],
   "source": [
    "logging.basicConfig(level=logging.DEBUG)\n",
    "logger.info('Shows up now.')"
   ]
  },
  {
   "cell_type": "markdown",
   "metadata": {},
   "source": [
    "You can also change the log formatting, see the package for information on what is available (note this does not work in notebooks and on certain platforms, but you can see the result in an IDE like PyCharm):"
   ]
  },
  {
   "cell_type": "code",
   "execution_count": 11,
   "metadata": {},
   "outputs": [
    {
     "name": "stderr",
     "output_type": "stream",
     "text": [
      "INFO:test_logger:Shows up now.\n"
     ]
    }
   ],
   "source": [
    "logging.basicConfig(format='%(asctime)s %(levelname)s:%(message)s',\n",
    "                    level=logging.DEBUG)\n",
    "logger.info('Shows up now.')"
   ]
  },
  {
   "cell_type": "markdown",
   "metadata": {},
   "source": [
    "A clean format for loggers, pulled from StackOverflow:\n",
    "`'%(asctime)s %(levelname)-8s [%(filename)s:%(lineno)d] %(message)s'`. Note `-8s` means always take up exactly 8 spaces.\n",
    "You can also set the date format argument `datefmt='%Y-%m-%d %H:%M:%S'`.\n",
    "\n",
    "To log to a file, include the `filename` argument:"
   ]
  },
  {
   "cell_type": "code",
   "execution_count": null,
   "metadata": {},
   "outputs": [],
   "source": [
    "# keeping this commented so we don't create an output txt file:\n",
    "# logging.basicConfig(format='%(asctime)s %(levelname)s:%(message)s',\n",
    "#                     level=logging.DEBUG,\n",
    "#                     filename='logs.txt')\n",
    "# logger.info('Shows up now.')"
   ]
  },
  {
   "cell_type": "markdown",
   "metadata": {},
   "source": [
    "When you're creating the logger, good practice is to:\n",
    "\n",
    "1. give it the same name as the module so it's easier to identify where messages are coming from, or\n",
    "2. give them names similar to their paths, as configurations will be inherited from parent to child"
   ]
  },
  {
   "cell_type": "code",
   "execution_count": null,
   "metadata": {},
   "outputs": [],
   "source": [
    "# 1\n",
    "logger = logging.getLogger(__name__)\n",
    "\n",
    "# 2\n",
    "logger = logging.getLogger('books')\n",
    "# ...\n",
    "logger = logging.getLogger('books.database')"
   ]
  }
 ],
 "metadata": {
  "kernelspec": {
   "display_name": "Python 3",
   "language": "python",
   "name": "python3"
  },
  "language_info": {
   "codemirror_mode": {
    "name": "ipython",
    "version": 3
   },
   "file_extension": ".py",
   "mimetype": "text/x-python",
   "name": "python",
   "nbconvert_exporter": "python",
   "pygments_lexer": "ipython3",
   "version": "3.8.5"
  }
 },
 "nbformat": 4,
 "nbformat_minor": 4
}
