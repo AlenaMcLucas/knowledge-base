{
 "cells": [
  {
   "cell_type": "markdown",
   "metadata": {},
   "source": [
    "# Working with Files\n",
    "\n",
    "## Basic Opening and Writing\n",
    "\n",
    "`open('data.txt', 'r')` where it opens the `data.txt` files in `r`, or \"read\" mode. Be sure to open and close them as soon as possible, returning the file to the operating sysyem, otherwise you can't interact with it again."
   ]
  },
  {
   "cell_type": "code",
   "execution_count": 6,
   "metadata": {},
   "outputs": [
    {
     "name": "stdout",
     "output_type": "stream",
     "text": [
      "Alena\n"
     ]
    }
   ],
   "source": [
    "my_file = open('data.txt', 'r')\n",
    "file_content = my_file.read()\n",
    "\n",
    "my_file.close()\n",
    "print(file_content)"
   ]
  },
  {
   "cell_type": "code",
   "execution_count": 5,
   "metadata": {},
   "outputs": [
    {
     "name": "stdout",
     "output_type": "stream",
     "text": [
      "Enter your name: Alena\n"
     ]
    }
   ],
   "source": [
    "user_name = input('Enter your name: ')\n",
    "\n",
    "my_file_writing = open('data.txt', 'w')   # open in writing mode\n",
    "my_file_writing.write(user_name)   # actually writes to file\n",
    "my_file_writing.close()"
   ]
  },
  {
   "cell_type": "markdown",
   "metadata": {},
   "source": [
    "## Copying Files"
   ]
  },
  {
   "cell_type": "code",
   "execution_count": 9,
   "metadata": {},
   "outputs": [
    {
     "name": "stdout",
     "output_type": "stream",
     "text": [
      "Enter three frield names, separated by commas: Alena,John,Monica\n",
      "Monica is nearby! Meet up with them.\n",
      "Alena is nearby! Meet up with them.\n",
      "John is nearby! Meet up with them.\n"
     ]
    }
   ],
   "source": [
    "friends = input('Enter three frield names, separated by commas: ').split(',')\n",
    "\n",
    "people = open('people.txt', 'r')\n",
    "people_nearby = [line.strip() for line in people.readlines()]\n",
    "people.close()\n",
    "\n",
    "friends_set = set(friends)\n",
    "people_nearby_set = set(people_nearby)\n",
    "\n",
    "friends_nearby_set = friends_set.intersection(people_nearby_set)\n",
    "nearby_friends_file = open('nearby_friends.txt', 'w')\n",
    "\n",
    "for friend in friends_nearby_set:\n",
    "    print(f'{friend} is nearby! Meet up with them.')\n",
    "    nearby_friends_file.write(f'{friend}\\n')\n",
    "\n",
    "nearby_friends_file.close()"
   ]
  },
  {
   "cell_type": "markdown",
   "metadata": {},
   "source": [
    "## CSV Files\n",
    "\n",
    "These files can be iterated through like normal .txt files. There is also a `csv` library in addition to `pandas`.\n",
    "\n",
    "## JSON\n",
    "\n",
    "Comes from javascript, parsed like a dictionary. Differences between the two are:\n",
    "- JSON are strings\n",
    "- JSON requires double quotations\n",
    "- Some JSON have a requirement that the outermost structure is an object\n",
    "- JSON doesn't have tuples"
   ]
  },
  {
   "cell_type": "code",
   "execution_count": 13,
   "metadata": {},
   "outputs": [
    {
     "name": "stdout",
     "output_type": "stream",
     "text": [
      "{'name': 'Jose', 'degree': 'Applied Computing'}\n",
      "Alfa Romeo\n"
     ]
    }
   ],
   "source": [
    "import json\n",
    "\n",
    "file = open('friends_json.txt', 'r')\n",
    "file_contents = json.load(file)\n",
    "file.close()\n",
    "\n",
    "print(file_contents['friends'][0])\n",
    "\n",
    "cars = [\n",
    "    {'make': 'Ford', 'model': 'Fiesta'},\n",
    "    {'make': 'Ford', 'model': 'Focus'}\n",
    "]\n",
    "\n",
    "file = open('cars_json.txt', 'w')\n",
    "json.dump(cars, file)\n",
    "file.close()\n",
    "\n",
    "my_json_string = '[{\"name\": \"Alfa Romeo\", \"released\": 1950}]'\n",
    "incorrect_car = json.loads(my_json_string)\n",
    "print(incorrect_car[0]['name'])"
   ]
  },
  {
   "cell_type": "markdown",
   "metadata": {},
   "source": [
    "## `with` Syntax\n",
    "\n",
    "This is beneficial because we don't have to individually open and close files. Context managers will simplify the process:"
   ]
  },
  {
   "cell_type": "code",
   "execution_count": 14,
   "metadata": {},
   "outputs": [
    {
     "name": "stdout",
     "output_type": "stream",
     "text": [
      "{'friends': [{'name': 'Jose', 'degree': 'Applied Computing'}, {'name': 'Rolf', 'degree': 'Computer Science'}, {'name': 'Anna', 'degree': 'Physics'}]}\n"
     ]
    }
   ],
   "source": [
    "import json\n",
    "\n",
    "with open('friends_json.txt', 'r') as file:\n",
    "    file_contents = json.load(file)\n",
    "\n",
    "print(file_contents)"
   ]
  },
  {
   "cell_type": "markdown",
   "metadata": {},
   "source": [
    "## Importing your file\n",
    "\n",
    "Don't put spaces in your file name. If there is another file in this directory called `file_operations.py` with functions `save_to_file` and `read_file`, we write the following to import and use it:\n",
    "\n",
    "```\n",
    "import file_operations\n",
    "file_operations.save_to_file('Rolf', 'data.txt')\n",
    "```\n",
    "\n",
    "Alternatively, we can import specific functions (or classes) using the following syntax:\n",
    "\n",
    "```\n",
    "from file_operations import save_to_file\n",
    "save_to_file('Rolf', 'data.txt')\n",
    "```\n",
    "\n",
    "If you're only using a few functions / classes, it may be better to import them directly so that importing an entire library doesn't overlap with another library you're using.\n",
    "\n",
    "Another way is to import multiple functions:\n",
    "\n",
    "`from file_operations import save_to_file, read_file`\n",
    "\n",
    "Note that when you change the directory of a `.py` file you're importing, you need to give the full path in the import:\n",
    "\n",
    "`from utils.file_operations import save_to_file, read_file`\n",
    "\n",
    "While it may not be necessary in current python versions, to ensure backwards compatibility add an empty file in a directory that is meant to be a package and call it `__init__py`."
   ]
  },
  {
   "cell_type": "markdown",
   "metadata": {},
   "source": [
    "### Additional importing notes\n",
    "\n",
    "Basics:\n",
    "\n",
    "- When something is imported, its file is run\n",
    "- Python automatically starts with a path that's at the top of your project\n",
    "- To do a relative import, start the import with a `.` == current directory\n",
    "    - Not good in the majority of cases because if it's called from another script, it will throw an error.\n",
    "- There will be errors if you attempt circular imports\n",
    "    - Can bypass this problem by importing the entire module and not something specific since Python keeps track of importing specific modules\n",
    "\n",
    "Different types of imports:\n",
    "    \n",
    "- When you run a file as a script, for that script `__name__ == __main__`\n",
    "- When you import a script as a module, its `__name__ == [path]`, where `[absolute path]` could be `utils.find`\n",
    "- When you **relatively import children** as a module (`from .common.file_operations import save_to_file`), its `__name__ == [absolute path]`, where `[path]` could be `utils.common.file_operations`\n",
    "- When you **relatively import a parent** as a module (`from ..find import NotFoundError`), its `__name__ == [absolute path]`, where `[path]` could be `utils.find`\n",
    "    - Note that if you run the script itself, it will likely throw an error\n",
    "- Great Stack Overflow explanation: [Relative imports for the billionth time](https://stackoverflow.com/questions/14132789/relative-imports-for-the-billionth-time/14132912#14132912)\n",
    "\n",
    "In practice:\n",
    "\n",
    "- Note that in PyCharm, the PYTHON_PATH variable is set for you to be the top of the project, so that's where absolute imports begin\n",
    "- Relative imports make it tough to run files as scripts, so a best practice for beginners are absolute imports\n",
    "- `if __name__ == '__main__':` is the best way to test the functionality of your file"
   ]
  },
  {
   "cell_type": "code",
   "execution_count": null,
   "metadata": {},
   "outputs": [],
   "source": []
  }
 ],
 "metadata": {
  "kernelspec": {
   "display_name": "Python 3",
   "language": "python",
   "name": "python3"
  },
  "language_info": {
   "codemirror_mode": {
    "name": "ipython",
    "version": 3
   },
   "file_extension": ".py",
   "mimetype": "text/x-python",
   "name": "python",
   "nbconvert_exporter": "python",
   "pygments_lexer": "ipython3",
   "version": "3.8.5"
  }
 },
 "nbformat": 4,
 "nbformat_minor": 4
}
