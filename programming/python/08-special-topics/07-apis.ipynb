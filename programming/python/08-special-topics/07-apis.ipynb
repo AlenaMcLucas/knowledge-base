{
 "cells": [
  {
   "cell_type": "markdown",
   "metadata": {},
   "source": [
    "# APIs\n",
    "\n",
    "Because I didn't want to sign up for the free API account the course recommends, I've copied and pasted the material without running the code so I can still retain the information.\n",
    "\n",
    "APIs usually work by first getting an ID and other credentials set up. Then, you can request data through an endpoint.\n",
    "\n",
    "Here's a simple example:"
   ]
  },
  {
   "cell_type": "code",
   "execution_count": null,
   "metadata": {},
   "outputs": [],
   "source": [
    "import requests\n",
    "\n",
    "APP_ID = \"72dba35060b54cf9ad3ffbdc68de9174\"\n",
    "ENDPOINT = \"https://openexchangerates.org/api/latest.json\"\n",
    "\n",
    "response = requests.get(f\"{ENDPOINT}?app_id={APP_ID}\")\n",
    "exchange_rates = response.json()\n",
    "\n",
    "usd_amount = 1000\n",
    "gbp_amount = usd_amount * exchange_rates['rates']['GBP']\n",
    "\n",
    "print(f\"USD{usd_amount} is GBP{gbp_amount}\")"
   ]
  },
  {
   "cell_type": "markdown",
   "metadata": {},
   "source": [
    "Creating a client is common because it helps us parse the data we're receiving. Create another file that will take care of that for our application.\n",
    "\n",
    "When you're coding interactions with things that aren't part of your application, they are commonly stored in a file called `libs`:"
   ]
  },
  {
   "cell_type": "code",
   "execution_count": null,
   "metadata": {},
   "outputs": [],
   "source": [
    "# libs/openexchange.py\n",
    "\n",
    "import requests\n",
    "import functools\n",
    "from cachetools import cached, TTLCache\n",
    "\n",
    "\n",
    "class OpenExchangeClient:\n",
    "    BASE_URL = \"https://openexchangerates.org/api/\"\n",
    "\n",
    "    def __init__(self, app_id):\n",
    "        self.app_id = app_id\n",
    "    \n",
    "    @property\n",
    "    @cached(cache=TTLCache(maxsize=2, ttl=900))\n",
    "    def latest(self):\n",
    "        return requests.get(f\"{self.BASE_URL}/latest.json?app_id={self.app_id}\").json()\n",
    "    \n",
    "    def convert(self, from_amount, from_currency, to_currency):\n",
    "        rates = self.latest['rates']\n",
    "        to_rate = rates[to_currency]\n",
    "\n",
    "        if from_currency == 'USD':\n",
    "            return from_amount * to_rate\n",
    "        else:\n",
    "            from_in_usd = from_amount / rates[from_currency]\n",
    "            return from_in_usd * to_rate"
   ]
  },
  {
   "cell_type": "code",
   "execution_count": null,
   "metadata": {},
   "outputs": [],
   "source": [
    "# app.py\n",
    "\n",
    "from libs.openexchange import OpenExchangeClient\n",
    "\n",
    "APP_ID = \"72dba35060b54cf9ad3ffbdc68de9174\"\n",
    "\n",
    "client = OpenExchangeClient(APP_ID)\n",
    "\n",
    "usd_amount = 1000\n",
    "gbp_amount = client.convert(usd_amount, 'USD', 'GBP')\n",
    "\n",
    "print(f\"USD{usd_amount} is GBP{gbp_amount}\")"
   ]
  },
  {
   "cell_type": "markdown",
   "metadata": {},
   "source": [
    "Note the addition of `@cached(cache=TTLCache(maxsize=2, ttl=900))`. A **cache** stores data temporarily so it can be used again quickly. This line ensures we will remember the arguments and what they return so that if they're used again, the function doesn't have to recalculate and it can return the same thing it did last time.\n",
    "\n",
    "We are using cachetools, which persists how many second should elapse until it stops using the cache."
   ]
  },
  {
   "cell_type": "code",
   "execution_count": null,
   "metadata": {},
   "outputs": [],
   "source": []
  }
 ],
 "metadata": {
  "kernelspec": {
   "display_name": "Python 3",
   "language": "python",
   "name": "python3"
  },
  "language_info": {
   "codemirror_mode": {
    "name": "ipython",
    "version": 3
   },
   "file_extension": ".py",
   "mimetype": "text/x-python",
   "name": "python",
   "nbconvert_exporter": "python",
   "pygments_lexer": "ipython3",
   "version": "3.8.5"
  }
 },
 "nbformat": 4,
 "nbformat_minor": 4
}
