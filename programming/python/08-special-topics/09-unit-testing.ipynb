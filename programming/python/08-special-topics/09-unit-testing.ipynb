{
 "cells": [
  {
   "cell_type": "markdown",
   "metadata": {},
   "source": [
    "# Unit testing\n",
    "\n",
    "Two main purposes:\n",
    "\n",
    "1. Describe what your application does and what your functions in your application do. By looking at your tests, other people should get a general idea of what your code does, some of the classes and functions, their limits, etc.\n",
    "2. **Checks** are something that run on your application code and check for the same thing. A **test** aims to check if your application will break at any point, checks for problems, etc. There is debate as to how much the two overlap.\n",
    "3. It forces you to write better code.\n",
    "\n",
    "Unit testing isn't necessary for small projects or portfolio piece. If the project continues to grow, tests are important.\n",
    "\n",
    "## Testing functions"
   ]
  },
  {
   "cell_type": "code",
   "execution_count": 1,
   "metadata": {},
   "outputs": [],
   "source": [
    "# test_functions.py\n",
    "from unittest import TestCase\n",
    "\n",
    "class TestFunctions(TestCase):\n",
    "    def test_divide_result(self):\n",
    "        divident = 15\n",
    "        divisor = 3\n",
    "        expected_result = 5.0\n",
    "        self.assertEqual(divide(divident, divisor), expected_result)"
   ]
  },
  {
   "cell_type": "markdown",
   "metadata": {},
   "source": [
    "In `self.assertEqual()`, you can also set `delta=0.0001` to allow for different expected results.\n",
    "\n",
    "To run this code, you must have the function and file name start with `test_`. Then you can right click the file and click Run, which will run the unit tests. Note that the python files have the same name except for the prepended `test_`."
   ]
  },
  {
   "cell_type": "code",
   "execution_count": 2,
   "metadata": {},
   "outputs": [],
   "source": [
    "# functions.py\n",
    "def divide(dividend, divisor):\n",
    "    if divisor == 0:\n",
    "        raise ValueError('The divisor cannot be zero.')\n",
    "    \n",
    "    return dividend / divisor\n",
    "\n",
    "\n",
    "def multiply(*args):\n",
    "    if len(args) == 0:\n",
    "        raise ValueError('At least one value to multiply must be passed.')\n",
    "    total = 1\n",
    "    for arg in args:\n",
    "        total *= arg\n",
    "    \n",
    "    return total"
   ]
  },
  {
   "cell_type": "markdown",
   "metadata": {},
   "source": [
    "You can add more tests to the class `TestFunctions` to perform multiple tests."
   ]
  },
  {
   "cell_type": "markdown",
   "metadata": {},
   "source": [
    "## Testing for errors\n",
    "\n",
    "To test for an error, you could add the method to the class from above:"
   ]
  },
  {
   "cell_type": "code",
   "execution_count": 4,
   "metadata": {},
   "outputs": [],
   "source": [
    "# test_functions.py\n",
    "from unittest import TestCase\n",
    "\n",
    "class TestFunctions(TestCase):\n",
    "    def test_divide_result(self):\n",
    "        divident = 15\n",
    "        divisor = 3\n",
    "        expected_result = 5.0\n",
    "        self.assertEqual(divide(divident, divisor), expected_result)\n",
    "    \n",
    "    def test_divide_error_on_zero(self):\n",
    "        with self.assertRaises(ValueError):\n",
    "            divide(25, 0)\n",
    "    \n",
    "    # tests empty arguments\n",
    "    def test_multiply_empty(self):\n",
    "        with self.assertRaises(ValueError):\n",
    "            multiply()\n",
    "    \n",
    "    # test one item in list\n",
    "    def test_multiply_single_value(self):\n",
    "        expected = 15\n",
    "        self.assertEqual(multiply(expected), expected)\n",
    "    \n",
    "    # test results with unpacking arguments\n",
    "    def test_multiply_result(self):\n",
    "        inputs = (3, 5)\n",
    "        expected = 15\n",
    "        self.assertEqual(multiply(*inputs), expected)"
   ]
  },
  {
   "cell_type": "markdown",
   "metadata": {},
   "source": [
    "# Testing classes"
   ]
  },
  {
   "cell_type": "code",
   "execution_count": 5,
   "metadata": {},
   "outputs": [],
   "source": [
    "# printer.py\n",
    "class PrinterError(RuntimeError):\n",
    "    pass\n",
    "\n",
    "\n",
    "class Printer:\n",
    "    def __init__(self, pages_per_s: int, capacity: int):\n",
    "        self.pages_per_s = pages_per_s\n",
    "        self._capacity = capacity\n",
    "    \n",
    "    def print(self, pages):\n",
    "        if pages > self._capacity:\n",
    "            raise PrinterError('Printer does not have enough capacity for all these pages.')\n",
    "        \n",
    "        self._capacity -= pages\n",
    "\n",
    "        return f'Printed {pages} pages in {pages/self.pages_per_s:.2f} seconds.'"
   ]
  },
  {
   "cell_type": "code",
   "execution_count": null,
   "metadata": {},
   "outputs": [],
   "source": [
    "# test_printer.py\n",
    "from unittest import TestCase\n",
    "\n",
    "\n",
    "class TestPrinter(TestCase):\n",
    "    # creates a Printer instance to test for all other tests\n",
    "    # runs before each test, so each time you get a new Printer\n",
    "    # if you want to keep the same Printer, use `@ classmethod \\n def setUpClass(cls): ...`\n",
    "    def setUp(self):\n",
    "        self.printer = Printer(pages_per_s=2.0, capacity=300)\n",
    "    \n",
    "    def test_print_within_capacity(self):\n",
    "        self.printer.print(25)\n",
    "    \n",
    "    # same format as functions\n",
    "    def test_print_outside_capacity(self):\n",
    "        with self.assertRaises(PrinterError):\n",
    "            self.printer.print(301)\n",
    "    \n",
    "    # make sure edge case is checked\n",
    "    def test_print_exact_capacity(self):\n",
    "        self.printer.print(self.printer._capacity)\n",
    "    \n",
    "    def test_printer_speed(self):\n",
    "        pages = 10\n",
    "        expected = 'Printed 10 pages in 5.00 seconds.'\n",
    "\n",
    "        result = self.printer.print(pages)\n",
    "        self.assertEqual(result, expected)\n",
    "    \n",
    "    def test_speed_always_two_decimals(self):\n",
    "        fast_printer = Printer(pages_per_s=3.0, capacity=300)\n",
    "        pages = 11\n",
    "        expected = 'Printed 11 pages in 3.67 seconds.'\n",
    "\n",
    "        result = fast_printer.print(pages)\n",
    "        self.assertEqual(result, expected)\n",
    "\n",
    "    def test_multiple_print_runs(self):\n",
    "        self.printer.print(25)\n",
    "        self.printer.print(50)\n",
    "        self.printer.print(225)\n",
    "    \n",
    "    def test_multiple_runs_end_up_error(self):\n",
    "        self.printer.print(25)\n",
    "        self.printer.print(50)\n",
    "        self.printer.print(225)\n",
    "\n",
    "        with self.assertRaises(PrinterError):\n",
    "            self.printer.print(1)"
   ]
  },
  {
   "cell_type": "markdown",
   "metadata": {},
   "source": [
    "## Testing external libraries"
   ]
  },
  {
   "cell_type": "code",
   "execution_count": 8,
   "metadata": {},
   "outputs": [],
   "source": [
    "# page.py\n",
    "import requests\n",
    "\n",
    "class PageRequester:\n",
    "    def __init__(self, url):\n",
    "        self.url = url\n",
    "    \n",
    "    def get(self):\n",
    "        return requests.get(self.url)"
   ]
  },
  {
   "cell_type": "code",
   "execution_count": 7,
   "metadata": {},
   "outputs": [],
   "source": [
    "# test_page.py\n",
    "from unittest import TestCase\n",
    "from unittest.mock import patch\n",
    "\n",
    "\n",
    "class TestPageRequester(TestCase):\n",
    "    def setUp(self):\n",
    "        self.page = PageRequester('https://google.com')\n",
    "    \n",
    "    # anywhere in our application, 'requests.get' is replaced by a mock\n",
    "    def test_make_request(self):\n",
    "        with patch('requests.get') as mocked_get:\n",
    "            self.page.get()\n",
    "            mocked_get.assert_called()\n",
    "    \n",
    "    def test_content_returned(self):\n",
    "        class FakeResponse:\n",
    "            def __init__(self):\n",
    "                self.content = 'Hello'\n",
    "\n",
    "        with patch('requests.get', return_value=FakeResponse()) as mocked_get:\n",
    "            result = self.page.get()\n",
    "            self.assertEqual(result, 'Hello')"
   ]
  },
  {
   "cell_type": "markdown",
   "metadata": {},
   "source": [
    "By replacing the library functionality with a `MagicMock`, this allows us to always access any property it invents, despite if it exists or not. The property will return another `MagicMock`. Our patch returns a class we created called `FakeResponse`, which does have a `content` property. We are essentially faking a return value to test the rest of our code that surrounds an external library."
   ]
  },
  {
   "cell_type": "code",
   "execution_count": null,
   "metadata": {},
   "outputs": [],
   "source": []
  }
 ],
 "metadata": {
  "kernelspec": {
   "display_name": "Python 3",
   "language": "python",
   "name": "python3"
  },
  "language_info": {
   "codemirror_mode": {
    "name": "ipython",
    "version": 3
   },
   "file_extension": ".py",
   "mimetype": "text/x-python",
   "name": "python",
   "nbconvert_exporter": "python",
   "pygments_lexer": "ipython3",
   "version": "3.8.5"
  }
 },
 "nbformat": 4,
 "nbformat_minor": 4
}
