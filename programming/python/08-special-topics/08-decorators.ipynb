{
 "cells": [
  {
   "cell_type": "markdown",
   "metadata": {},
   "source": [
    "# Decorators\n",
    "\n",
    "## Simple example\n",
    "\n",
    "A **decorator** is a function that takes in a function (and usually runs it). You can think of them like wrappers that add functionality to a function that already exists."
   ]
  },
  {
   "cell_type": "code",
   "execution_count": 1,
   "metadata": {},
   "outputs": [
    {
     "name": "stdout",
     "output_type": "stream",
     "text": [
      "Password for admin panel is 1234.\n"
     ]
    }
   ],
   "source": [
    "user = {'username': 'jose123', 'access_level': 'admin'}\n",
    "\n",
    "def user_has_permission(func):\n",
    "    def secure_func():\n",
    "        if user.get('access_level') == 'admin':\n",
    "            return func()\n",
    "    return secure_func\n",
    "    \n",
    "def my_function():\n",
    "    return 'Password for admin panel is 1234.'\n",
    "\n",
    "my_secure_function = user_has_permission(my_function)\n",
    "\n",
    "print(my_secure_function())"
   ]
  },
  {
   "cell_type": "markdown",
   "metadata": {},
   "source": [
    "## @syntax\n",
    "\n",
    "By using `@user_has_permission` syntax, we get the same results as explicitly passing a function to another function. In essence, we are setting up the association that `user_has_permission()` will accept `my_function()` as an argument:"
   ]
  },
  {
   "cell_type": "code",
   "execution_count": 4,
   "metadata": {},
   "outputs": [
    {
     "name": "stdout",
     "output_type": "stream",
     "text": [
      "Password for admin panel is 1234.\n"
     ]
    }
   ],
   "source": [
    "user = {'username': 'jose123', 'access_level': 'admin'}\n",
    "\n",
    "\n",
    "def user_has_permission(func):\n",
    "    def secure_func():\n",
    "        if user.get('access_level') == 'admin':\n",
    "            return func()\n",
    "    return secure_func\n",
    "\n",
    "@user_has_permission\n",
    "def my_function():\n",
    "    \"\"\"I am a docstring.\"\"\"\n",
    "    return 'Password for admin panel is 1234.'\n",
    "\n",
    "\n",
    "print(my_function())"
   ]
  },
  {
   "cell_type": "code",
   "execution_count": 7,
   "metadata": {},
   "outputs": [
    {
     "name": "stdout",
     "output_type": "stream",
     "text": [
      "secure_func\n",
      "None\n"
     ]
    }
   ],
   "source": [
    "print(my_function.__name__)\n",
    "print(my_function.__doc__)"
   ]
  },
  {
   "cell_type": "markdown",
   "metadata": {},
   "source": [
    "Note though that `my_function()` is returning information about `secure_func()` because it has been replaced. The next section covers how to fix this."
   ]
  },
  {
   "cell_type": "code",
   "execution_count": 8,
   "metadata": {},
   "outputs": [
    {
     "name": "stdout",
     "output_type": "stream",
     "text": [
      "secure_func\n",
      "secure_func\n"
     ]
    }
   ],
   "source": [
    "@user_has_permission\n",
    "def another():\n",
    "    pass\n",
    "\n",
    "print(my_function.__name__)\n",
    "print(another.__name__)"
   ]
  },
  {
   "cell_type": "markdown",
   "metadata": {},
   "source": [
    "## `functools` wraps\n",
    "\n",
    "A decorator called `functools` wraps around the function to let python know what the original function is wrapping around another:"
   ]
  },
  {
   "cell_type": "code",
   "execution_count": 9,
   "metadata": {},
   "outputs": [
    {
     "name": "stdout",
     "output_type": "stream",
     "text": [
      "my_function\n",
      "another\n"
     ]
    }
   ],
   "source": [
    "import functools\n",
    "\n",
    "user = {'username': 'jose123', 'access_level': 'guest'}\n",
    "\n",
    "\n",
    "def user_has_permission(func):\n",
    "    @functools.wraps(func)\n",
    "    def secure_func():\n",
    "        if user.get('access_level') == 'admin':\n",
    "            return func()\n",
    "    return secure_func\n",
    "\n",
    "@user_has_permission\n",
    "def my_function():\n",
    "    \"\"\"\n",
    "    Allows us to retrieve the password for the admin panel.\n",
    "    \"\"\"\n",
    "    return 'Password for admin panel is 1234.'\n",
    "\n",
    "\n",
    "@user_has_permission\n",
    "def another():\n",
    "    pass\n",
    "\n",
    "print(my_function.__name__)\n",
    "print(another.__name__)"
   ]
  },
  {
   "cell_type": "markdown",
   "metadata": {},
   "source": [
    "## Decorating with parameters\n",
    "\n",
    "Passing parameters is like most other functions, but note that `user_has_permission()` doesn't need to include the parameter in its definition:"
   ]
  },
  {
   "cell_type": "code",
   "execution_count": 10,
   "metadata": {},
   "outputs": [
    {
     "name": "stdout",
     "output_type": "stream",
     "text": [
      "my_function\n",
      "Password for movies panel is 1234.\n"
     ]
    }
   ],
   "source": [
    "import functools\n",
    "\n",
    "user = {'username': 'jose123', 'access_level': 'admin'}\n",
    "\n",
    "\n",
    "def user_has_permission(func):\n",
    "    @functools.wraps(func)\n",
    "    def secure_func(panel):\n",
    "        if user.get('access_level') == 'admin':\n",
    "            return func(panel)\n",
    "    return secure_func\n",
    "\n",
    "@user_has_permission\n",
    "def my_function(panel):\n",
    "    \"\"\"\n",
    "    Allows us to retrieve the password for the admin panel.\n",
    "    \"\"\"\n",
    "    return f'Password for {panel} panel is 1234.'\n",
    "\n",
    "\n",
    "print(my_function.__name__)\n",
    "print(my_function('movies'))"
   ]
  },
  {
   "cell_type": "markdown",
   "metadata": {},
   "source": [
    "However, it is recognizing and passing the parameter, because trying to use it on another function produces and error:"
   ]
  },
  {
   "cell_type": "code",
   "execution_count": 11,
   "metadata": {
    "scrolled": true
   },
   "outputs": [
    {
     "ename": "TypeError",
     "evalue": "secure_func() missing 1 required positional argument: 'panel'",
     "output_type": "error",
     "traceback": [
      "\u001b[0;31m---------------------------------------------------------------------------\u001b[0m",
      "\u001b[0;31mTypeError\u001b[0m                                 Traceback (most recent call last)",
      "\u001b[0;32m<ipython-input-11-19764d4aef52>\u001b[0m in \u001b[0;36m<module>\u001b[0;34m\u001b[0m\n\u001b[1;32m      3\u001b[0m     \u001b[0;32mreturn\u001b[0m \u001b[0;34m'Hello'\u001b[0m\u001b[0;34m\u001b[0m\u001b[0;34m\u001b[0m\u001b[0m\n\u001b[1;32m      4\u001b[0m \u001b[0;34m\u001b[0m\u001b[0m\n\u001b[0;32m----> 5\u001b[0;31m \u001b[0mprint\u001b[0m\u001b[0;34m(\u001b[0m\u001b[0manother\u001b[0m\u001b[0;34m(\u001b[0m\u001b[0;34m)\u001b[0m\u001b[0;34m)\u001b[0m\u001b[0;34m\u001b[0m\u001b[0;34m\u001b[0m\u001b[0m\n\u001b[0m",
      "\u001b[0;31mTypeError\u001b[0m: secure_func() missing 1 required positional argument: 'panel'"
     ]
    }
   ],
   "source": [
    "@user_has_permission\n",
    "def another():\n",
    "    return 'Hello'\n",
    "\n",
    "print(another())"
   ]
  },
  {
   "cell_type": "code",
   "execution_count": 14,
   "metadata": {},
   "outputs": [
    {
     "name": "stdout",
     "output_type": "stream",
     "text": [
      "my_function\n",
      "Password for movies panel is 1234.\n"
     ]
    }
   ],
   "source": [
    "def third_level(access_level):\n",
    "    def user_has_permission(func):\n",
    "        @functools.wraps(func)\n",
    "        def secure_func(panel):\n",
    "            if user.get('access_level') == 'admin':\n",
    "                return func(panel)\n",
    "        return secure_func\n",
    "    return user_has_permission\n",
    "\n",
    "@third_level('user')\n",
    "def my_function(panel):\n",
    "    \"\"\"\n",
    "    Allows us to retrieve the password for the admin panel.\n",
    "    \"\"\"\n",
    "    return f'Password for {panel} panel is 1234.'\n",
    "\n",
    "\n",
    "print(my_function.__name__)\n",
    "print(my_function('movies'))"
   ]
  },
  {
   "cell_type": "markdown",
   "metadata": {},
   "source": [
    "## Functions that accept multiple arguments\n",
    "\n",
    "`*args` is the convention to allow passing a flexible number of positional arguments, and `**kwargs` allows passing a flexible number of named arguments (key-value pairs).\n",
    "\n",
    "Each of the below is equivalent, but increasingly more pythonic:"
   ]
  },
  {
   "cell_type": "code",
   "execution_count": 16,
   "metadata": {},
   "outputs": [
    {
     "name": "stdout",
     "output_type": "stream",
     "text": [
      "16\n"
     ]
    }
   ],
   "source": [
    "def add_all(a1, a2, a3, a4):\n",
    "    return a1+a2+a3+a4\n",
    "\n",
    "print(add_all(1, 3, 5, 7))"
   ]
  },
  {
   "cell_type": "code",
   "execution_count": 17,
   "metadata": {
    "scrolled": true
   },
   "outputs": [
    {
     "name": "stdout",
     "output_type": "stream",
     "text": [
      "16\n"
     ]
    }
   ],
   "source": [
    "def add_all(a1, a2, a3, a4):\n",
    "    return a1+a2+a3+a4\n",
    "\n",
    "vals = (1, 3, 5, 7)\n",
    "\n",
    "print(add_all(*vals))"
   ]
  },
  {
   "cell_type": "code",
   "execution_count": 18,
   "metadata": {},
   "outputs": [
    {
     "name": "stdout",
     "output_type": "stream",
     "text": [
      "16\n"
     ]
    }
   ],
   "source": [
    "def add_all(*args):\n",
    "    return sum(args)\n",
    "\n",
    "print(add_all(*vals))"
   ]
  },
  {
   "cell_type": "code",
   "execution_count": 20,
   "metadata": {},
   "outputs": [],
   "source": [
    "def pretty_print(**kwargs):\n",
    "    for k, v in kwargs.items():\n",
    "        print(f'For {k} we have {v}.')"
   ]
  },
  {
   "cell_type": "code",
   "execution_count": 21,
   "metadata": {},
   "outputs": [
    {
     "name": "stdout",
     "output_type": "stream",
     "text": [
      "For username we have jose123.\n",
      "For access_level we have admin.\n"
     ]
    }
   ],
   "source": [
    "pretty_print(username='jose123', access_level='admin')"
   ]
  },
  {
   "cell_type": "code",
   "execution_count": 22,
   "metadata": {},
   "outputs": [
    {
     "name": "stdout",
     "output_type": "stream",
     "text": [
      "For username we have jose123.\n",
      "For access_level we have admin.\n"
     ]
    }
   ],
   "source": [
    "pretty_print(**{'username': 'jose123', 'access_level': 'admin'})"
   ]
  },
  {
   "cell_type": "markdown",
   "metadata": {},
   "source": [
    "## Generic decorators\n",
    "\n",
    "In the below example, we are ensuring we can pass all arguments through the rest of the decorator, making it generic for any function that it affects."
   ]
  },
  {
   "cell_type": "code",
   "execution_count": 23,
   "metadata": {},
   "outputs": [
    {
     "name": "stdout",
     "output_type": "stream",
     "text": [
      "my_function\n",
      "Password for movies panel is 1234.\n",
      "None\n"
     ]
    }
   ],
   "source": [
    "import functools\n",
    "\n",
    "user = {'username': 'jose123', 'access_level': 'admin'}\n",
    "\n",
    "\n",
    "def user_has_permission(func):\n",
    "    @functools.wraps(func)\n",
    "    def secure_func(*args, **kwargs):\n",
    "        if user.get('access_level') == 'admin':\n",
    "            return func(*args, **kwargs)\n",
    "    return secure_func\n",
    "\n",
    "@user_has_permission\n",
    "def my_function(panel):\n",
    "    \"\"\"\n",
    "    Allows us to retrieve the password for the admin panel.\n",
    "    \"\"\"\n",
    "    return f'Password for {panel} panel is 1234.'\n",
    "\n",
    "\n",
    "@user_has_permission\n",
    "def another():\n",
    "    pass\n",
    "\n",
    "\n",
    "print(my_function.__name__)\n",
    "\n",
    "print(my_function('movies'))\n",
    "print(another())"
   ]
  },
  {
   "cell_type": "markdown",
   "metadata": {},
   "source": [
    "A final note, you can apply multiple decorators on one function. They evaluate top-down."
   ]
  },
  {
   "cell_type": "code",
   "execution_count": null,
   "metadata": {},
   "outputs": [],
   "source": []
  }
 ],
 "metadata": {
  "kernelspec": {
   "display_name": "Python 3",
   "language": "python",
   "name": "python3"
  },
  "language_info": {
   "codemirror_mode": {
    "name": "ipython",
    "version": 3
   },
   "file_extension": ".py",
   "mimetype": "text/x-python",
   "name": "python",
   "nbconvert_exporter": "python",
   "pygments_lexer": "ipython3",
   "version": "3.8.5"
  }
 },
 "nbformat": 4,
 "nbformat_minor": 4
}
