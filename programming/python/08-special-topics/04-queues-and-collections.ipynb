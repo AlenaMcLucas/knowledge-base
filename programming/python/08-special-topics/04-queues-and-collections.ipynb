{
 "cells": [
  {
   "cell_type": "markdown",
   "metadata": {},
   "source": [
    "# Queues and Stacks\n",
    "\n",
    "In a **queue**, it adds elements to the end and removes elements from the start.\n",
    "\n",
    "In a **deque** or **double-ended queue**, you can add or remove elements from either side.\n",
    "\n",
    "In a **stack**, you can add or remove elements from the the same end only."
   ]
  },
  {
   "cell_type": "markdown",
   "metadata": {},
   "source": [
    "# Collections\n",
    "\n",
    "Common collections include:\n",
    "- **counter** allows us to count things\n",
    "- **defaultdict** never raises a KeyError, instead returns a specified value when a key is not found\n",
    "    - helpful when you want to easily specify that key-not-found return value\n",
    "- **ordereddict** enforces that dictionary key-values retain their order, but as of Python 3.7 that is now a feature of a generic dictionary\n",
    "    - it does have some queue-like fuctions that may be helpful\n",
    "- **namedtuple** gives each element of the tuple a name, as well as the tuple itself\n",
    "    - best when you're building something that doesn't warrant a class but naming its elements would be helpful\n",
    "- **deque** see definition above\n",
    "    - very efficient, thread-safe (async friendly)"
   ]
  },
  {
   "cell_type": "code",
   "execution_count": 1,
   "metadata": {},
   "outputs": [
    {
     "name": "stdout",
     "output_type": "stream",
     "text": [
      "2\n"
     ]
    }
   ],
   "source": [
    "# Counter\n",
    "from collections import Counter\n",
    "\n",
    "device_temperatures = [13.5, 14.0, 14.0, 14.5, 14.5, 14.5, 15.0, 16.0]\n",
    "\n",
    "temperature_counter = Counter(device_temperatures)\n",
    "print(temperature_counter[14.0])"
   ]
  },
  {
   "cell_type": "code",
   "execution_count": 2,
   "metadata": {},
   "outputs": [
    {
     "name": "stdout",
     "output_type": "stream",
     "text": [
      "Teclado\n",
      "Apple Inc.\n"
     ]
    }
   ],
   "source": [
    "# defaultdict\n",
    "from collections import defaultdict\n",
    "\n",
    "my_company = 'Teclado'\n",
    "\n",
    "coworkers = ['Jen', 'Li', 'Charlie', 'Rhys']\n",
    "other_coworkers = [('Rolf', 'Apple Inc.'), ('Anna', 'Google')]\n",
    "\n",
    "coworker_companies = defaultdict(lambda: my_company) # default dict takes a function\n",
    "\n",
    "for person, company in other_coworkers:\n",
    "    coworker_companies[person] = company\n",
    "\n",
    "print(coworker_companies['Jen'])\n",
    "print(coworker_companies['Rolf'])"
   ]
  },
  {
   "cell_type": "code",
   "execution_count": 3,
   "metadata": {},
   "outputs": [
    {
     "name": "stdout",
     "output_type": "stream",
     "text": [
      "OrderedDict([('Rolf', 6), ('Jose', 10), ('Jen', 3)])\n",
      "OrderedDict([('Jose', 10), ('Jen', 3), ('Rolf', 6)])\n",
      "OrderedDict([('Jose', 10), ('Jen', 3)])\n"
     ]
    }
   ],
   "source": [
    "# OrderedDict\n",
    "from collections import OrderedDict\n",
    "\n",
    "o = OrderedDict()\n",
    "o['Rolf'] = 6\n",
    "o['Jose'] = 10\n",
    "o['Jen'] = 3\n",
    "\n",
    "print(o)  # keys are always in the order in which they were inserted\n",
    "\n",
    "o.move_to_end('Rolf')\n",
    "o.move_to_end('Jose', last=False)\n",
    "\n",
    "print(o)\n",
    "\n",
    "o.popitem()\n",
    "\n",
    "print(o)"
   ]
  },
  {
   "cell_type": "code",
   "execution_count": 4,
   "metadata": {},
   "outputs": [
    {
     "name": "stdout",
     "output_type": "stream",
     "text": [
      "checking\n",
      "1850.9\n",
      "Account(name='checking', balance=1850.9)\n"
     ]
    }
   ],
   "source": [
    "# namedtuple\n",
    "from collections import namedtuple\n",
    "\n",
    "Account = namedtuple('Account', ['name', 'balance'])\n",
    "\n",
    "account = Account('checking', 1850.90)\n",
    "print(account.name)\n",
    "print(account.balance)\n",
    "print(account)"
   ]
  },
  {
   "cell_type": "code",
   "execution_count": 5,
   "metadata": {},
   "outputs": [
    {
     "data": {
      "text/plain": [
       "{'name': 'checking', 'balance': 1850.9}"
      ]
     },
     "execution_count": 5,
     "metadata": {},
     "output_type": "execute_result"
    }
   ],
   "source": [
    "# namedtuple - additional functionality\n",
    "name, balance = account\n",
    "\n",
    "Account('checking', balance=1850.90)\n",
    "\n",
    "Account._make(('checking', 1850.90))\n",
    "\n",
    "accounts = [\n",
    "    ('checking', 1850.90),\n",
    "    ('savings', 3658.00),\n",
    "    ('credit', -450.00)\n",
    "]\n",
    "\n",
    "account_tuples = map(Account._make, accounts)\n",
    "\n",
    "account._asdict()"
   ]
  },
  {
   "cell_type": "code",
   "execution_count": 6,
   "metadata": {},
   "outputs": [
    {
     "name": "stdout",
     "output_type": "stream",
     "text": [
      "deque(['Anthony', 'Rolf', 'Charlie', 'Jen', 'Anna', 'Jose'])\n",
      "deque(['Anthony', 'Rolf', 'Charlie', 'Jen', 'Anna'])\n",
      "deque(['Rolf', 'Charlie', 'Jen', 'Anna'])\n"
     ]
    }
   ],
   "source": [
    "# deque\n",
    "from collections import deque\n",
    "\n",
    "friends = deque(('Rolf', 'Charlie', 'Jen', 'Anna'))\n",
    "friends.append('Jose')\n",
    "friends.appendleft('Anthony')\n",
    "\n",
    "print(friends)\n",
    "\n",
    "friends.pop()\n",
    "print(friends)\n",
    "\n",
    "friends.popleft()\n",
    "print(friends)"
   ]
  },
  {
   "cell_type": "code",
   "execution_count": null,
   "metadata": {},
   "outputs": [],
   "source": []
  }
 ],
 "metadata": {
  "kernelspec": {
   "display_name": "Python 3",
   "language": "python",
   "name": "python3"
  },
  "language_info": {
   "codemirror_mode": {
    "name": "ipython",
    "version": 3
   },
   "file_extension": ".py",
   "mimetype": "text/x-python",
   "name": "python",
   "nbconvert_exporter": "python",
   "pygments_lexer": "ipython3",
   "version": "3.8.5"
  }
 },
 "nbformat": 4,
 "nbformat_minor": 4
}
