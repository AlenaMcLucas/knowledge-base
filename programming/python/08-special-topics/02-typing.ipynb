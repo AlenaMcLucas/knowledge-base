{
 "cells": [
  {
   "cell_type": "code",
   "execution_count": 5,
   "metadata": {},
   "outputs": [],
   "source": [
    "from typing import List, Dict, Union"
   ]
  },
  {
   "cell_type": "markdown",
   "metadata": {},
   "source": [
    "# Typing\n",
    "\n",
    "Python is a **dynamically typed** language, meaning you don't have to specify which type a variable must be. Variables can change types. One drawback is that it's more difficult to keep track of what type you expect your variables to be by looking at them.\n",
    "\n",
    "Python 3 now created type hints, where you can specify what datatype to expect a function to return:"
   ]
  },
  {
   "cell_type": "code",
   "execution_count": 8,
   "metadata": {},
   "outputs": [],
   "source": [
    "def nothing() -> None:\n",
    "    pass\n",
    "\n",
    "\n",
    "# create a type, start with a capital letter\n",
    "Book = Dict[str, Union[str, int]]\n",
    "\n",
    "def something() -> List[Book]:\n",
    "    return [{'potato': ('old', 1), 'tomato': ('fair', 2)},{'banana': ('green', 3), 'strawberry': ('fresh', 7)}]"
   ]
  },
  {
   "cell_type": "markdown",
   "metadata": {},
   "source": [
    "Note that we have to import some objects from the `typing` module to use type hinting. You can also use a class that has already been defined.\n",
    "\n",
    "It's helpful for developing, where PyCharm will raise a yellow warning, but Python ignores it so it does not affect runtime."
   ]
  },
  {
   "cell_type": "code",
   "execution_count": null,
   "metadata": {},
   "outputs": [],
   "source": []
  }
 ],
 "metadata": {
  "kernelspec": {
   "display_name": "Python 3",
   "language": "python",
   "name": "python3"
  },
  "language_info": {
   "codemirror_mode": {
    "name": "ipython",
    "version": 3
   },
   "file_extension": ".py",
   "mimetype": "text/x-python",
   "name": "python",
   "nbconvert_exporter": "python",
   "pygments_lexer": "ipython3",
   "version": "3.8.5"
  }
 },
 "nbformat": 4,
 "nbformat_minor": 4
}
