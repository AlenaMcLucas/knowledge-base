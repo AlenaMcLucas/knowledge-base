{
 "cells": [
  {
   "cell_type": "markdown",
   "metadata": {},
   "source": [
    "# Advanced Built-In Functions\n",
    "\n",
    "## Generators\n",
    "\n",
    "**Generators** remember what happened in their previous execution."
   ]
  },
  {
   "cell_type": "code",
   "execution_count": 3,
   "metadata": {},
   "outputs": [],
   "source": [
    "# this function returns a list\n",
    "def hundred_numbers():\n",
    "    lst = []\n",
    "    i = 0\n",
    "    while i < 100:\n",
    "        lst.append(i)\n",
    "        i += 1\n",
    "    return lst\n",
    "\n",
    "# this function returns a generator object\n",
    "def hundred_numbers_gen():\n",
    "    i = 0\n",
    "    while i < 100:\n",
    "        yield i\n",
    "        i += 1"
   ]
  },
  {
   "cell_type": "code",
   "execution_count": 4,
   "metadata": {},
   "outputs": [
    {
     "name": "stdout",
     "output_type": "stream",
     "text": [
      "[0, 1, 2, 3, 4, 5, 6, 7, 8, 9, 10, 11, 12, 13, 14, 15, 16, 17, 18, 19, 20, 21, 22, 23, 24, 25, 26, 27, 28, 29, 30, 31, 32, 33, 34, 35, 36, 37, 38, 39, 40, 41, 42, 43, 44, 45, 46, 47, 48, 49, 50, 51, 52, 53, 54, 55, 56, 57, 58, 59, 60, 61, 62, 63, 64, 65, 66, 67, 68, 69, 70, 71, 72, 73, 74, 75, 76, 77, 78, 79, 80, 81, 82, 83, 84, 85, 86, 87, 88, 89, 90, 91, 92, 93, 94, 95, 96, 97, 98, 99]\n",
      "<generator object hundred_numbers_gen at 0x7fd5e00d99e0>\n"
     ]
    }
   ],
   "source": [
    "print(hundred_numbers())\n",
    "print(hundred_numbers_gen())"
   ]
  },
  {
   "cell_type": "code",
   "execution_count": 8,
   "metadata": {},
   "outputs": [],
   "source": [
    "# intialize, without running\n",
    "g = hundred_numbers_gen()"
   ]
  },
  {
   "cell_type": "code",
   "execution_count": 9,
   "metadata": {},
   "outputs": [
    {
     "name": "stdout",
     "output_type": "stream",
     "text": [
      "0\n",
      "1\n",
      "2\n"
     ]
    }
   ],
   "source": [
    "# next is a built-in function of generators\n",
    "print(next(g))\n",
    "print(next(g))\n",
    "print(next(g))"
   ]
  },
  {
   "cell_type": "code",
   "execution_count": 10,
   "metadata": {},
   "outputs": [
    {
     "name": "stdout",
     "output_type": "stream",
     "text": [
      "3\n",
      "4\n",
      "5\n"
     ]
    }
   ],
   "source": [
    "# run it again\n",
    "print(next(g))\n",
    "print(next(g))\n",
    "print(next(g))"
   ]
  },
  {
   "cell_type": "code",
   "execution_count": 11,
   "metadata": {},
   "outputs": [
    {
     "name": "stdout",
     "output_type": "stream",
     "text": [
      "[6, 7, 8, 9, 10, 11, 12, 13, 14, 15, 16, 17, 18, 19, 20, 21, 22, 23, 24, 25, 26, 27, 28, 29, 30, 31, 32, 33, 34, 35, 36, 37, 38, 39, 40, 41, 42, 43, 44, 45, 46, 47, 48, 49, 50, 51, 52, 53, 54, 55, 56, 57, 58, 59, 60, 61, 62, 63, 64, 65, 66, 67, 68, 69, 70, 71, 72, 73, 74, 75, 76, 77, 78, 79, 80, 81, 82, 83, 84, 85, 86, 87, 88, 89, 90, 91, 92, 93, 94, 95, 96, 97, 98, 99]\n"
     ]
    }
   ],
   "source": [
    "# you can also return a list from the remainder of the generator\n",
    "print(list(g))"
   ]
  },
  {
   "cell_type": "markdown",
   "metadata": {},
   "source": [
    "## !!! IMPORTANT NOTE !!!\n",
    "\n",
    "- An **iterator** is used to get the next value\n",
    "- An **iterable** is used to go over all the values of the iterator\n",
    "\n",
    "All iterators are not iterables, but all iterables are iterators.\n",
    "\n",
    "\n",
    "## Generator Class\n",
    "\n",
    "A generator is best used when the number of items is so long, you don't want to store the entire thing in memory."
   ]
  },
  {
   "cell_type": "code",
   "execution_count": 12,
   "metadata": {},
   "outputs": [],
   "source": [
    "class FirstHundredGenerator:\n",
    "    def __init__(self):\n",
    "        self.number = 0\n",
    "    \n",
    "    def __next__(self):   # allows you to call next\n",
    "        if self.number < 100:\n",
    "            current = self.number\n",
    "            self.number += 1\n",
    "            return current\n",
    "        else:\n",
    "            raise StopIteration()   # error that have reached the end\n",
    "\n",
    "my_gen = FirstHundredGenerator()"
   ]
  },
  {
   "cell_type": "code",
   "execution_count": 13,
   "metadata": {},
   "outputs": [
    {
     "name": "stdout",
     "output_type": "stream",
     "text": [
      "0\n",
      "0\n",
      "1\n"
     ]
    }
   ],
   "source": [
    "print(my_gen.number)\n",
    "print(next(my_gen))\n",
    "print(next(my_gen))"
   ]
  },
  {
   "cell_type": "markdown",
   "metadata": {},
   "source": [
    "All objects that have the `__next__` method are iterators. All generators are iterators, but not all iterators are generators."
   ]
  },
  {
   "cell_type": "code",
   "execution_count": 14,
   "metadata": {},
   "outputs": [],
   "source": [
    "# this is an iterator that is not a generator\n",
    "# instead of generating numbers, we are returning them from a list\n",
    "\n",
    "class FirstFiveIterator:\n",
    "    def __init__(self):\n",
    "        self.numbers = [1, 2, 3, 4, 5]\n",
    "        self.i = 0\n",
    "    \n",
    "    def __next__(self):\n",
    "        if self.i < len(self.numbers):\n",
    "            current = self.numbers[self.i]\n",
    "            self.i += 1\n",
    "            return current\n",
    "        else:\n",
    "            raise StopIteration()\n",
    "            \n",
    "my_iter = FirstFiveIterator()"
   ]
  },
  {
   "cell_type": "code",
   "execution_count": 15,
   "metadata": {},
   "outputs": [
    {
     "name": "stdout",
     "output_type": "stream",
     "text": [
      "[1, 2, 3, 4, 5]\n",
      "1\n",
      "2\n"
     ]
    }
   ],
   "source": [
    "print(my_iter.numbers)\n",
    "print(next(my_iter))\n",
    "print(next(my_iter))"
   ]
  },
  {
   "cell_type": "code",
   "execution_count": 69,
   "metadata": {},
   "outputs": [],
   "source": [
    "# Code Exercise\n",
    "# Define a PrimeGenerator class\n",
    "class PrimeGenerator:\n",
    "    # You may modify the __init__() method if necessary, but you don't need to change its arguments\n",
    "    def __init__(self, stop):\n",
    "        self.stop = stop    # stop defines the range (exclusive upper bound) in which we search for the primes\n",
    "        self.start = 2\n",
    "        \n",
    "    def __next__(self):\n",
    "        for n in range(self.start, self.stop):\n",
    "            for x in range(2, n):\n",
    "                if n % x == 0:\n",
    "                    break\n",
    "            else:\n",
    "                self.start = n + 1\n",
    "                return n\n",
    "        else:\n",
    "            raise StopIteration()"
   ]
  },
  {
   "cell_type": "code",
   "execution_count": 76,
   "metadata": {},
   "outputs": [],
   "source": [
    "prime = PrimeGenerator(20)"
   ]
  },
  {
   "cell_type": "code",
   "execution_count": 77,
   "metadata": {},
   "outputs": [
    {
     "name": "stdout",
     "output_type": "stream",
     "text": [
      "2\n",
      "3\n",
      "5\n",
      "7\n",
      "11\n"
     ]
    }
   ],
   "source": [
    "print(next(prime))\n",
    "print(next(prime))\n",
    "print(next(prime))\n",
    "print(next(prime))\n",
    "print(next(prime))"
   ]
  },
  {
   "cell_type": "markdown",
   "metadata": {},
   "source": [
    "# Iterable Class\n",
    "\n",
    "An iterable is an object with\n",
    "1. an `__iter__` method, which must return an iterator, or\n",
    "2. `__len__` and `__getitem__` methods defined\n",
    "\n",
    "An example of the former:"
   ]
  },
  {
   "cell_type": "code",
   "execution_count": 78,
   "metadata": {},
   "outputs": [],
   "source": [
    "class FirstHundredIterable:\n",
    "    def __iter__(self):\n",
    "        return FirstHundredGenerator()"
   ]
  },
  {
   "cell_type": "code",
   "execution_count": 79,
   "metadata": {
    "scrolled": true
   },
   "outputs": [
    {
     "name": "stdout",
     "output_type": "stream",
     "text": [
      "4950\n",
      "0\n",
      "1\n",
      "2\n",
      "3\n",
      "4\n",
      "5\n",
      "6\n",
      "7\n",
      "8\n",
      "9\n",
      "10\n",
      "11\n",
      "12\n",
      "13\n",
      "14\n",
      "15\n",
      "16\n",
      "17\n",
      "18\n",
      "19\n",
      "20\n",
      "21\n",
      "22\n",
      "23\n",
      "24\n",
      "25\n",
      "26\n",
      "27\n",
      "28\n",
      "29\n",
      "30\n",
      "31\n",
      "32\n",
      "33\n",
      "34\n",
      "35\n",
      "36\n",
      "37\n",
      "38\n",
      "39\n",
      "40\n",
      "41\n",
      "42\n",
      "43\n",
      "44\n",
      "45\n",
      "46\n",
      "47\n",
      "48\n",
      "49\n",
      "50\n",
      "51\n",
      "52\n",
      "53\n",
      "54\n",
      "55\n",
      "56\n",
      "57\n",
      "58\n",
      "59\n",
      "60\n",
      "61\n",
      "62\n",
      "63\n",
      "64\n",
      "65\n",
      "66\n",
      "67\n",
      "68\n",
      "69\n",
      "70\n",
      "71\n",
      "72\n",
      "73\n",
      "74\n",
      "75\n",
      "76\n",
      "77\n",
      "78\n",
      "79\n",
      "80\n",
      "81\n",
      "82\n",
      "83\n",
      "84\n",
      "85\n",
      "86\n",
      "87\n",
      "88\n",
      "89\n",
      "90\n",
      "91\n",
      "92\n",
      "93\n",
      "94\n",
      "95\n",
      "96\n",
      "97\n",
      "98\n",
      "99\n"
     ]
    }
   ],
   "source": [
    "print(sum(FirstHundredIterable()))\n",
    "\n",
    "for i in FirstHundredIterable():\n",
    "    print(i)"
   ]
  },
  {
   "cell_type": "code",
   "execution_count": 80,
   "metadata": {},
   "outputs": [],
   "source": [
    "# modify the generator class to be iterable:\n",
    "class FirstHundredGenerator:\n",
    "    def __init__(self):\n",
    "        self.number = 0\n",
    "    \n",
    "    def __next__(self):\n",
    "        if self.number < 100:\n",
    "            current = self.number\n",
    "            self.number += 1\n",
    "            return current\n",
    "        else:\n",
    "            raise StopIteration()\n",
    "    \n",
    "    def __iter__(self):\n",
    "        return self"
   ]
  },
  {
   "cell_type": "code",
   "execution_count": 81,
   "metadata": {
    "scrolled": true
   },
   "outputs": [
    {
     "name": "stdout",
     "output_type": "stream",
     "text": [
      "4950\n",
      "0\n",
      "1\n",
      "2\n",
      "3\n",
      "4\n",
      "5\n",
      "6\n",
      "7\n",
      "8\n",
      "9\n",
      "10\n",
      "11\n",
      "12\n",
      "13\n",
      "14\n",
      "15\n",
      "16\n",
      "17\n",
      "18\n",
      "19\n",
      "20\n",
      "21\n",
      "22\n",
      "23\n",
      "24\n",
      "25\n",
      "26\n",
      "27\n",
      "28\n",
      "29\n",
      "30\n",
      "31\n",
      "32\n",
      "33\n",
      "34\n",
      "35\n",
      "36\n",
      "37\n",
      "38\n",
      "39\n",
      "40\n",
      "41\n",
      "42\n",
      "43\n",
      "44\n",
      "45\n",
      "46\n",
      "47\n",
      "48\n",
      "49\n",
      "50\n",
      "51\n",
      "52\n",
      "53\n",
      "54\n",
      "55\n",
      "56\n",
      "57\n",
      "58\n",
      "59\n",
      "60\n",
      "61\n",
      "62\n",
      "63\n",
      "64\n",
      "65\n",
      "66\n",
      "67\n",
      "68\n",
      "69\n",
      "70\n",
      "71\n",
      "72\n",
      "73\n",
      "74\n",
      "75\n",
      "76\n",
      "77\n",
      "78\n",
      "79\n",
      "80\n",
      "81\n",
      "82\n",
      "83\n",
      "84\n",
      "85\n",
      "86\n",
      "87\n",
      "88\n",
      "89\n",
      "90\n",
      "91\n",
      "92\n",
      "93\n",
      "94\n",
      "95\n",
      "96\n",
      "97\n",
      "98\n",
      "99\n"
     ]
    }
   ],
   "source": [
    "print(sum(FirstHundredIterable()))\n",
    "\n",
    "for i in FirstHundredIterable():\n",
    "    print(i)"
   ]
  },
  {
   "cell_type": "markdown",
   "metadata": {},
   "source": [
    "An example of the second way to create an iterable:"
   ]
  },
  {
   "cell_type": "code",
   "execution_count": 84,
   "metadata": {},
   "outputs": [],
   "source": [
    "class AnotherIterable:\n",
    "    def __init__(self):\n",
    "        self.cars = ['Fiesta', 'Focus']\n",
    "        \n",
    "    def __len__(self):\n",
    "        return len(self.cars)\n",
    "    \n",
    "    def __getitem__(self, i):\n",
    "        return self.cars[i]"
   ]
  },
  {
   "cell_type": "code",
   "execution_count": 86,
   "metadata": {},
   "outputs": [
    {
     "name": "stdout",
     "output_type": "stream",
     "text": [
      "Fiesta\n",
      "Focus\n"
     ]
    }
   ],
   "source": [
    "for i in AnotherIterable():\n",
    "    print(i)"
   ]
  },
  {
   "cell_type": "markdown",
   "metadata": {},
   "source": [
    "## filter()\n",
    "\n",
    "The `filter()` function is a built-in function in Python that you can call from any file or program. It takes two arguments:\n",
    "\n",
    "- A function; and\n",
    "- An iterable (now we know what these are!)\n",
    "\n",
    "Note that it returns a generator!"
   ]
  },
  {
   "cell_type": "code",
   "execution_count": 1,
   "metadata": {},
   "outputs": [
    {
     "name": "stdout",
     "output_type": "stream",
     "text": [
      "<filter object at 0x7fbb003f9d30>\n",
      "['Rolf', 'Randy']\n",
      "[]\n"
     ]
    }
   ],
   "source": [
    "friends = ['Rolf', 'Jose', 'Randy', 'Anna', 'Mary']\n",
    "start_with_r = filter(lambda x: x.startswith('R'), friends)\n",
    "print(start_with_r)  # generator!\n",
    "\n",
    "print(list(start_with_r))\n",
    "print(list(start_with_r))  # won't work, the generator has already gone through all its elements"
   ]
  },
  {
   "cell_type": "code",
   "execution_count": 2,
   "metadata": {},
   "outputs": [],
   "source": [
    "# another generator, identical output\n",
    "# note that generator comprehension performs better because you\n",
    "# don't need to define a function\n",
    "another_one = (friend for friend in friends if friend.startswith('R'))"
   ]
  },
  {
   "cell_type": "markdown",
   "metadata": {},
   "source": [
    "## map()\n",
    "\n",
    "The `map()` function is used to take an iterable and output a new iterable where each element has been modified according to some function. It returns a generator:"
   ]
  },
  {
   "cell_type": "code",
   "execution_count": 3,
   "metadata": {
    "scrolled": true
   },
   "outputs": [
    {
     "name": "stdout",
     "output_type": "stream",
     "text": [
      "<map object at 0x7fbb003f9cd0>\n",
      "['rolf', 'jose', 'randy', 'anna', 'mary']\n"
     ]
    }
   ],
   "source": [
    "friends_lower = map(lambda x: x.lower(), friends)\n",
    "\n",
    "print(friends_lower)\n",
    "print(list(friends_lower))"
   ]
  },
  {
   "cell_type": "code",
   "execution_count": 4,
   "metadata": {},
   "outputs": [],
   "source": [
    "# comprehension versions\n",
    "friends_lower = [friend.lower() for friend in friends]\n",
    "friends_lower = (friend.lower() for friend in friends)"
   ]
  },
  {
   "cell_type": "code",
   "execution_count": 5,
   "metadata": {},
   "outputs": [],
   "source": [
    "# another example using a class method\n",
    "class User:\n",
    "    def __init__(self, username, password):\n",
    "        self.username = username\n",
    "        self.password = password\n",
    "\n",
    "    @classmethod\n",
    "    def from_dict(cls, data):\n",
    "        return cls(data['username'], data['password'])"
   ]
  },
  {
   "cell_type": "code",
   "execution_count": 7,
   "metadata": {},
   "outputs": [
    {
     "name": "stdout",
     "output_type": "stream",
     "text": [
      "[<__main__.User object at 0x7fbb004035e0>, <__main__.User object at 0x7fbb00403b50>]\n"
     ]
    }
   ],
   "source": [
    "users = [\n",
    "    { 'username': 'rolf', 'password': '123' },\n",
    "    { 'username': 'tecladoisawesome', 'password': 'youaretoo' }\n",
    "]\n",
    "\n",
    "# map is a bit more readable than list comprehension in this case\n",
    "user_objects = map(User.from_dict, users)\n",
    "user_objects = [User.from_dict(u) for u in users]\n",
    "\n",
    "print(list(user_objects))"
   ]
  },
  {
   "cell_type": "markdown",
   "metadata": {},
   "source": [
    "## any() and all()\n",
    "\n",
    "The `any()` function takes an iterable and returns `True` if any of the elements in it evaluate to `True`\n",
    "\n",
    "The `all()` function returns `True` if all the elements evaluate to `True`."
   ]
  },
  {
   "cell_type": "code",
   "execution_count": 8,
   "metadata": {},
   "outputs": [
    {
     "name": "stdout",
     "output_type": "stream",
     "text": [
      "Where are you right now? San Francisco\n",
      "You are not alone!\n"
     ]
    }
   ],
   "source": [
    "friends = [\n",
    "  {\n",
    "    'name': 'Rolf',\n",
    "    'location': 'Washington, D.C.'\n",
    "  },\n",
    "  {\n",
    "    'name': 'Anna',\n",
    "    'location': 'San Francisco'\n",
    "  },\n",
    "  {\n",
    "    'name': 'Charlie',\n",
    "    'location': 'San Francisco'\n",
    "  },\n",
    "  {\n",
    "    'name': 'Jose',\n",
    "    'location': 'San Francisco'\n",
    "  },\n",
    "]\n",
    "\n",
    "your_location = input('Where are you right now? ')\n",
    "friends_nearby = [friend for friend in friends if friend['location'] == your_location]\n",
    "\n",
    "# if len(friends) > 0:\n",
    "# this is how we would have figured this out, but we don't really want to know the length\n",
    "# we want a truthy answer of if it exists or not\n",
    "\n",
    "if any(friends_nearby):\n",
    "  print('You are not alone!')"
   ]
  },
  {
   "cell_type": "markdown",
   "metadata": {},
   "source": [
    "Some values that always evaluate to `False`:\n",
    "\n",
    "* `0`\n",
    "* `None`\n",
    "* `[]`\n",
    "* `()`\n",
    "* `{}`\n",
    "* `False`"
   ]
  },
  {
   "cell_type": "markdown",
   "metadata": {},
   "source": [
    "## Higher Order Functions\n",
    "\n",
    "A **higher order function** takes in a function and runs it at some point:"
   ]
  },
  {
   "cell_type": "code",
   "execution_count": 13,
   "metadata": {},
   "outputs": [
    {
     "name": "stdout",
     "output_type": "stream",
     "text": [
      "Before...\n",
      "5\n",
      "After...\n"
     ]
    }
   ],
   "source": [
    "def before_and_after(func):\n",
    "    print('Before...')\n",
    "    print(func())\n",
    "    print('After...')\n",
    "\n",
    "before_and_after(lambda: 5)"
   ]
  },
  {
   "cell_type": "markdown",
   "metadata": {},
   "source": [
    "Be weary to only pass the function name and not accidentally call it when passing it to another function.\n",
    "\n",
    "Below is a more advanced implementation of a higher order function:"
   ]
  },
  {
   "cell_type": "code",
   "execution_count": 15,
   "metadata": {},
   "outputs": [
    {
     "name": "stdout",
     "output_type": "stream",
     "text": [
      "What property are we searching by?name\n",
      "What are you looking for?1917\n",
      "[{'name': '1917', 'director': 'Mendes'}]\n"
     ]
    }
   ],
   "source": [
    "movies = [\n",
    "    {\"name\": \"The Matrix\", \"director\": \"Wachowski\"},\n",
    "    {\"name\": \"The Irishman\", \"director\": \"Scorsese\"},\n",
    "    {\"name\": \"Klaus\", \"director\": \"Pablos\"},\n",
    "    {\"name\": \"1917\", \"director\": \"Mendes\"}\n",
    "]\n",
    "\n",
    "\n",
    "def find_move(expected, finder):\n",
    "    found = []\n",
    "    for movie in movies:\n",
    "        if finder(movie) == expected:\n",
    "            found.append(movie)\n",
    "            \n",
    "    return found\n",
    "\n",
    "\n",
    "find_by = input(\"What property are we searching by?\")   # name or director\n",
    "looking_for = input(\"What are you looking for?\")   # search term to match\n",
    "movies = find_move(looking_for, lambda movie: movie[find_by])\n",
    "print(movies or 'No movies found.')"
   ]
  },
  {
   "cell_type": "markdown",
   "metadata": {},
   "source": [
    "## `itertools`\n",
    "\n",
    "Check out some of these articles when needed, which cover:\n",
    " - the `product` function, which creates multiplies two lists into a set of all possible combinations (more effecient than a double `for` loop: https://blog.tecladocode.com/python-itertools-part-1-product/\n",
    " - combinations and permutations (with and without replacement): https://blog.tecladocode.com/python-itertools-part-2-combinations-permutations/"
   ]
  },
  {
   "cell_type": "code",
   "execution_count": null,
   "metadata": {},
   "outputs": [],
   "source": []
  }
 ],
 "metadata": {
  "kernelspec": {
   "display_name": "Python 3",
   "language": "python",
   "name": "python3"
  },
  "language_info": {
   "codemirror_mode": {
    "name": "ipython",
    "version": 3
   },
   "file_extension": ".py",
   "mimetype": "text/x-python",
   "name": "python",
   "nbconvert_exporter": "python",
   "pygments_lexer": "ipython3",
   "version": "3.8.5"
  }
 },
 "nbformat": 4,
 "nbformat_minor": 4
}
