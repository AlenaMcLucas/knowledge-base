{
 "cells": [
  {
   "cell_type": "markdown",
   "metadata": {},
   "source": [
    "# The PATH variable\n",
    "\n",
    "The **PATH variable** is a global variable that your OS uses to specify where to find programs (i.e. when we type python, that's a program). If the program is in a folder which is in the PATH, it will work.\n",
    "\n",
    "To see what's in your PATH, type the below command in your console:\n",
    "\n",
    "`> echo $PATH`\n",
    "\n",
    "The PATH is an example of an **environment variable**, which are global variables available to all programs that run in the environment. Normally, the environment is your computer.\n",
    "\n",
    "You can look at all current environment variables by typing this in your console:\n",
    "\n",
    "`> export`"
   ]
  },
  {
   "cell_type": "markdown",
   "metadata": {},
   "source": [
    "# Python on the console\n",
    "\n",
    "`> python` or `> python3` starts a python interactive interpreter. While it would be difficult to write entire programs in the interpreter, it's a great resource to check your work.\n",
    "\n",
    "`> which python3` prints the PATH of the version of python you're working in.\n",
    "\n",
    "To install a package, `> pip install requests`. If you want to install a package to a particular version of python, `> pip3 install requests`.\n",
    "\n",
    "# `virtualenv`\n",
    "\n",
    "The `virtualenv` package allows you to run `> virtualenv venv --python=python3.7`, ensuring the virtual environment has python 3.7. It creates a \"venv\" folder that create a bunch of directories and files to support the environment. To use it, run:\n",
    "\n",
    "`> ./venv/bin/activate`\n",
    "\n",
    "or\n",
    "\n",
    "`> source venv/bin/activate`\n",
    "\n",
    "To deactive, run:\n",
    "\n",
    "`> deactivate`\n",
    "\n",
    "You should also delete the `venv` folder when you're done with it."
   ]
  },
  {
   "cell_type": "markdown",
   "metadata": {},
   "source": [
    "# `requirements.txt`\n",
    "\n",
    "Be sure to include a `requirements.txt` file so everyone is able to run `pip install -r requirements.txt` and keep their packages consistent with yours."
   ]
  },
  {
   "cell_type": "markdown",
   "metadata": {},
   "source": [
    "# `pipenv`\n",
    "\n",
    "This package will install a project with a `requirements.txt` file by running:\n",
    "\n",
    "`> pipenv install`\n",
    "\n",
    "It generates `Pipfile` and `Pipfile.lock`, which ensures your installation will be clean. You can now share those files instead of a `requirements.txt` file. This also creates a virtual environment for your project, but outside of your project."
   ]
  },
  {
   "cell_type": "code",
   "execution_count": null,
   "metadata": {},
   "outputs": [],
   "source": []
  }
 ],
 "metadata": {
  "kernelspec": {
   "display_name": "Python 3",
   "language": "python",
   "name": "python3"
  },
  "language_info": {
   "codemirror_mode": {
    "name": "ipython",
    "version": 3
   },
   "file_extension": ".py",
   "mimetype": "text/x-python",
   "name": "python",
   "nbconvert_exporter": "python",
   "pygments_lexer": "ipython3",
   "version": "3.8.5"
  }
 },
 "nbformat": 4,
 "nbformat_minor": 4
}
