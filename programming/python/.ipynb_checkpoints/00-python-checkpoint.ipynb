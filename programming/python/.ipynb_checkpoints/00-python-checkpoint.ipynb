{
 "cells": [
  {
   "cell_type": "markdown",
   "metadata": {},
   "source": [
    "# Python Knowledge Base\n",
    "\n",
    "This knowledge base has been created to keep track of all my working knowledge of Python.\n",
    "\n",
    "## Table of Contents\n",
    "\n",
    "Objects and Data Structures\n",
    "1. [Variable Assignment](/notebooks/01-objects-and-data-structures/01-variable-assignment.ipynb)\n",
    "2. [Numbers](/notebooks/01-objects-and-data-structures/02-numbers.ipynb)\n",
    "3. [Strings](/notebooks/01-objects-and-data-structures/03-strings.ipynb)\n",
    "4. [Lists](/notebooks/01-objects-and-data-structures/04-lists.ipynb)\n",
    "5. [Dictionaries](/notebooks/01-objects-and-data-structures/05-dictionaries.ipynb)\n",
    "6. [Tuples](/notebooks/01-objects-and-data-structures/06-tuples.ipynb)\n",
    "7. [Files](/notebooks/01-objects-and-data-structures/07-files.ipynb)\n",
    "8. [Sets](/notebooks/01-objects-and-data-structures/08-sets.ipynb)\n",
    "9. [Booleans](/notebooks/01-objects-and-data-structures/09-booleans.ipynb)\n",
    "10. [Numpy Arrays](/notebooks/01-objects-and-data-structures/10-numpy-arrays.ipynb)\n",
    "11. [Pandas Series](/notebooks/01-objects-and-data-structures/11-pandas-series.ipynb)\n",
    "12. [Pandas Dataframes](/notebooks/01-objects-and-data-structures/12-pandas-dataframes.ipynb)\n",
    "13. [Other Data Type Functions](/notebooks/01-objects-and-data-structures/13-other-data-type-functions.ipynb)\n",
    "\n",
    "Operators and Statements\n",
    "1. [Comparison Operators](/notebooks/02-operators-and-statements/01-comparison-operators.ipynb)\n",
    "2. [Arithmetic Operators](/notebooks/02-operators-and-statements/02-arithmetic-operators.ipynb)\n",
    "3. [Introduction to Statements](/notebooks/02-operators-and-statements/03-introduction-to-statements.ipynb)\n",
    "4. [if, elif and else Statements](/notebooks/02-operators-and-statements/04-if-elif-and-else-statements.ipynb)\n",
    "5. [for Loops](/notebooks/02-operators-and-statements/05-for-loops.ipynb)\n",
    "6. [while Loops](/notebooks/02-operators-and-statements/06-while-loops.ipynb)\n",
    "7. [Range](/notebooks/02-operators-and-statements/07-range.ipynb)\n",
    "8. [List Comprehensions](/notebooks/02-operators-and-statements/08-list-comprehensions.ipynb)\n",
    "\n",
    "Methods and Functions\n",
    "1. [Methods](/notebooks/03-methods-and-functions/01-methods.ipynb)\n",
    "2. [Functions](/notebooks/03-methods-and-functions/02-functions.ipynb)\n",
    "3. [Lambda Expressions](/notebooks/03-methods-and-functions/03-lambda-expressions.ipynb)\n",
    "4. [Nested Statements and Scope](/notebooks/03-methods-and-functions/04-nested-statements-and-scope.ipynb)\n",
    "5. [Useful Functions](/notebooks/03-methods-and-functions/05-useful-functions.ipynb)\n",
    "6. [Decorators](/notebooks/03-methods-and-functions/06-decorators.ipynb)\n",
    "7. [Iterators and Generators](/notebooks/03-methods-and-functions/07-iterators-and-generators.ipynb)\n",
    "\n",
    "Classes\n",
    "1. [Object-Oriented Programming](/notebooks/04-classes/01-object-oriented-programming.ipynb)\n",
    "\n",
    "Errors and Exceptions\n",
    "1. [Errors and Exceptions Handling](/notebooks/05-errors-and-exceptions/01-errors-and-exceptions-handling.ipynb)\n",
    "\n",
    "Modules and Packages\n",
    "1. [Modules and Packages](/notebooks/06-modules-and-packages/01-modules-and-packages.ipynb)\n",
    "2. [Collections Module](/notebooks/06-modules-and-packages/02-collections-module.ipynb)\n",
    "3. [Datetime](/notebooks/06-modules-and-packages/03-datetime.ipynb)\n",
    "4. [Python Debugger pdb](/notebooks/06-modules-and-packages/04-python-debugger-pdb.ipynb)\n",
    "5. [Timing your Code timeit](/notebooks/06-modules-and-packages/05-timing-your-code-timeit.ipynb)\n",
    "6. [Regular Expressions](/notebooks/06-modules-and-packages/06-regular-expressions.ipynb)\n",
    "7. [StringIO](/notebooks/06-modules-and-packages/07-stringIO.ipynb)\n",
    "8. [Random](/notebooks/06-modules-and-packages/08-random.ipynb)\n",
    "\n",
    "New Notes\n",
    "1. [Learning Numpy](/notebooks/07-new-notes/Lec06-13-LearningNumpy.ipynb)\n",
    "2. [Intro to Pandas](/notebooks/07-new-notes/Lec14-24-IntroToPandas.ipynb)\n",
    "3. [Working with Data 1](/notebooks/07-new-notes/Lec25-28-WorkingWithData1.ipynb)\n",
    "4. [Working with Data 2](/notebooks/07-new-notes/Lec29-41-WorkingWithData2.ipynb)\n",
    "5. [Working with Data 3](/notebooks/07-new-notes/Lec42-46-WorkingWithData3.ipynb)\n",
    "6. [Data Visualization](/notebooks/07-new-notes/Lec47-53-DataVisualization.ipynb)"
   ]
  },
  {
   "cell_type": "code",
   "execution_count": null,
   "metadata": {
    "collapsed": true
   },
   "outputs": [],
   "source": []
  }
 ],
 "metadata": {
  "anaconda-cloud": {},
  "kernelspec": {
   "display_name": "Python [default]",
   "language": "python",
   "name": "python2"
  },
  "language_info": {
   "codemirror_mode": {
    "name": "ipython",
    "version": 2
   },
   "file_extension": ".py",
   "mimetype": "text/x-python",
   "name": "python",
   "nbconvert_exporter": "python",
   "pygments_lexer": "ipython2",
   "version": "2.7.12"
  }
 },
 "nbformat": 4,
 "nbformat_minor": 0
}
