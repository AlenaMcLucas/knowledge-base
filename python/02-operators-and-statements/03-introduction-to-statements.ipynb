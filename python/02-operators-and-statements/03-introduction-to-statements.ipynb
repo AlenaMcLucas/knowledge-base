{
 "cells": [
  {
   "cell_type": "markdown",
   "metadata": {
    "slideshow": {
     "slide_type": "slide"
    }
   },
   "source": [
    "# Introduction to Python Statements"
   ]
  },
  {
   "cell_type": "markdown",
   "metadata": {
    "slideshow": {
     "slide_type": "slide"
    }
   },
   "source": [
    "Let's create a simple statement that says:\n",
    "\"If a is greater than b, assign 2 to a and 4 to b\"  \n",
    "\n",
    "    if a>b:\n",
    "        a = 2\n",
    "        b = 4"
   ]
  },
  {
   "cell_type": "markdown",
   "metadata": {},
   "source": [
    "Python gets rid of () and {} by incorporating two main factors: a *colon* and *whitespace*. The statement is ended with a colon, and whitespace is used (indentation) to describe what takes place in case of the statement. This means that code readability is a core part of the design of the Python language. Another major difference is the lack of semicolons in Python.\n",
    "\n",
    "Here is some pseudo-code to indicate the use of whitespace and indentation:\n",
    "    \n",
    "    if x:\n",
    "        if y:\n",
    "            code-statement\n",
    "    else:\n",
    "        another-code-statement"
   ]
  },
  {
   "cell_type": "code",
   "execution_count": null,
   "metadata": {
    "collapsed": true
   },
   "outputs": [],
   "source": []
  }
 ],
 "metadata": {
  "kernelspec": {
   "display_name": "Python 2",
   "language": "python",
   "name": "python2"
  },
  "language_info": {
   "codemirror_mode": {
    "name": "ipython",
    "version": 2
   },
   "file_extension": ".py",
   "mimetype": "text/x-python",
   "name": "python",
   "nbconvert_exporter": "python",
   "pygments_lexer": "ipython2",
   "version": "2.7.11"
  }
 },
 "nbformat": 4,
 "nbformat_minor": 0
}
