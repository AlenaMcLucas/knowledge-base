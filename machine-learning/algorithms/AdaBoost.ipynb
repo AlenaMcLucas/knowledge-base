{
 "cells": [
  {
   "cell_type": "markdown",
   "id": "c9f38ab7",
   "metadata": {},
   "source": [
    "Skip:\n",
    "- AdaBoost\n",
    "- Anova\n",
    "\n",
    "Pick up after gini index and trees\n",
    "\n",
    "---"
   ]
  },
  {
   "cell_type": "markdown",
   "id": "b81ebb63",
   "metadata": {},
   "source": [
    "- Ensemble modeling technique\n",
    "- Improves predictive power by converting a number of weaker learners (models) to stronger learners (ensembled model)\n",
    "- Boosting algorithms build a first model on the training dataset, then a second model to rectify the errors in the first one\n",
    "- 3 main types of boosting algorithms:\n",
    "    - AdaBoost\n",
    "    - Gradient descent\n",
    "    - Xtreme gradient descent"
   ]
  },
  {
   "cell_type": "markdown",
   "id": "b286638b",
   "metadata": {},
   "source": [
    "- Adaptive Boosting (AdaBoost)\n",
    "- Most commonly used with a decision tree with one level (only 1 split), sometimes called decision stumps\n",
    "- First, it gives equal weights to the data points. Then the data points with wrong predictions are given higher weights and more importance in the next model. It continues until?"
   ]
  },
  {
   "cell_type": "code",
   "execution_count": null,
   "id": "c0201ee6",
   "metadata": {},
   "outputs": [],
   "source": []
  }
 ],
 "metadata": {
  "kernelspec": {
   "display_name": "Python 3",
   "language": "python",
   "name": "python3"
  },
  "language_info": {
   "codemirror_mode": {
    "name": "ipython",
    "version": 3
   },
   "file_extension": ".py",
   "mimetype": "text/x-python",
   "name": "python",
   "nbconvert_exporter": "python",
   "pygments_lexer": "ipython3",
   "version": "3.8.5"
  }
 },
 "nbformat": 4,
 "nbformat_minor": 5
}
