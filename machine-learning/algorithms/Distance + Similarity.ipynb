{
 "cells": [
  {
   "cell_type": "markdown",
   "id": "f84f50ed",
   "metadata": {},
   "source": [
    "# Distance + Similarity\n",
    "\n",
    "![](img/distance.png)"
   ]
  },
  {
   "cell_type": "markdown",
   "id": "b3b31e11",
   "metadata": {},
   "source": [
    "## Euclidean Distance\n",
    "\n",
    "- Length of a segment connecting two points\n",
    "- Calculated from the cartesian coordinates of the points using Pythagorean theorem\n",
    "- $D(x,y)=\\sqrt{\\sum(x_i-y_i)^2}$\n",
    "- Disadvantages:\n",
    "    - It might be skewed if units are highly variant, so normalization is recommended\n",
    "    - Works best in lower dimensional space, susceptible to curse of dimensionality\n",
    "- Advantages:\n",
    "    - Low-dimensional data\n",
    "    - Intuitive to use, simple to implement, has great results in many use-cases\n",
    "\n",
    "## Manhattan Distance\n",
    "\n",
    "- Often called Taxicab distance or City Block distance\n",
    "- Calculates the distance between two vectors if they could only move right angles, without diagonal movement\n",
    "- $D(x,y)=\\sum|x_i-y_i|$\n",
    "- Disadvantages:\n",
    "    - Works okay for high-dimensional data\n",
    "    - Less intuitive than euclidean distance\n",
    "- Advantages:\n",
    "    - Discrete / binary attributes\n",
    "\n",
    "## Minkowski Distance\n",
    "\n",
    "- Generalizes the above distance formulas in n-dimensional real space\n",
    "- p-norm vector\n",
    "- Three requirements:\n",
    "    - Zero vector - has a length of zero\n",
    "    - Scalar factor - when you multiply the vector with a positive number its length is changed while keeping its direction\n",
    "    - Triangle inequality - shortest distance between two points is a straight line\n",
    "- $D(x,y)=(\\sum|x_i-y_i|^p)^{1/p}$\n",
    "- Common values of $p$ are:\n",
    "    - $p=1$ — Manhattan distance\n",
    "    - $p=2$ — Euclidean distance\n",
    "    - $p=∞$ — Chebyshev distance\n",
    "- Disadvantages:\n",
    "    - Refer to common values of $p$ individually\n",
    "    - $p$ can be computationally inefficient to tune\n",
    "- Advantages:\n",
    "    - $p$ allows for flexibility to find the right value to tune your distance metric"
   ]
  },
  {
   "cell_type": "markdown",
   "id": "adbe5c03",
   "metadata": {},
   "source": [
    "## Chebyshev Distance\n",
    "\n",
    "- Greatest of difference between two vectors along any coordinate dimension\n",
    "- Maximum distance along one axis\n",
    "- Chessboard distance\n",
    "- $D(x,y)=max(|x_i-y_i|)$\n",
    "- Disadvantages:\n",
    "    - Only usable in specific use-cases, so not a good for an all-purpose distance metric\n",
    "- Advantages:\n",
    "    - Extracts the minimum number of moves needed to go from one square to another. Useful in games that allow unrestricted 8-way movement.\n",
    "    - Logistic warehouse / manufacturing applications"
   ]
  },
  {
   "cell_type": "markdown",
   "id": "047d4ffc",
   "metadata": {},
   "source": [
    "## Jaccard Similarity / Index\n",
    "\n",
    "- Finds the similarlity between two sets or objects\n",
    "- Used to compare sets of patterns\n",
    "- For two sets: $J(A,B)= \\frac{|A \\cap B|}{|A \\cup B|}$\n",
    "- Similarity will be 0 if the sets don't share any values and 1 if they're identical\n",
    "- Jaccard distance: $D(A,B)=1-J(A,B)$\n",
    "- Disadvantages:\n",
    "    - Highly influenced by the size of the data; large datasets can significantly increace the union while keeping the intersection similar\n",
    "- Advantages:\n",
    "    - Image detection / NN to measure accuracy of object detection\n",
    "    - Text similarity analysis to see how much overlap there is between documents\n",
    "- Other versions: asymmetric binary arrays"
   ]
  },
  {
   "cell_type": "markdown",
   "id": "af5684ea",
   "metadata": {},
   "source": [
    "## Hamming Distance\n",
    "\n",
    "- Number of values that are different between two vectors\n",
    "- Distance between categorical variables\n",
    "- Typically used to compare two binary strings of equal length\n",
    "- Disadvantages:\n",
    "    - Difficult to use when vectors are of different lengths\n",
    "    - Does not take the actual value into account, so it's not advised to use hamming distance when magnitude is important\n",
    "- Advantages:\n",
    "    - Error correction/detection, detetching distorted bits in a binary word"
   ]
  },
  {
   "cell_type": "markdown",
   "id": "421278c0",
   "metadata": {},
   "source": [
    "## Cosine Similarity\n",
    "\n",
    "- Cosine of the angle / distance between two (sometimes sparse) vectors\n",
    "- Doesn't need normalization\n",
    "- $C(x,y)=cos(\\theta)=\\frac{xy}{||x||\\text{ }||y||}$\n",
    "- Two vectors with exactly the same orientation have a cosine similarity of 1, and two diametrically opposed to each other have a similarity of -1\n",
    "- Cosine distance: $D(x,y)=1-C(x,y)$\n",
    "- Vectors must be non-zero\n",
    "- Disadvantages:\n",
    "    - Magnitude isn't taken into account, only the direction; in practice, this means the differences in values are not fully taken into account\n",
    "- Advantages:\n",
    "    - High-dimensional data and magnitude of the vectors is not important\n",
    "    - Word counts work well because it might not be the number of times a word appears that is most important"
   ]
  },
  {
   "cell_type": "markdown",
   "id": "f38c4179",
   "metadata": {},
   "source": [
    "## Honorable Mentions\n",
    "\n",
    "- Haversine Distance: distance between two points on a sphere given their longitutes and latitudes\n",
    "- Sørensen-Dice Index: measure the similarity and diversity of sample sets, percentage of overlap between two sets"
   ]
  },
  {
   "cell_type": "code",
   "execution_count": null,
   "id": "45f2a308",
   "metadata": {},
   "outputs": [],
   "source": []
  }
 ],
 "metadata": {
  "kernelspec": {
   "display_name": "Python 3",
   "language": "python",
   "name": "python3"
  },
  "language_info": {
   "codemirror_mode": {
    "name": "ipython",
    "version": 3
   },
   "file_extension": ".py",
   "mimetype": "text/x-python",
   "name": "python",
   "nbconvert_exporter": "python",
   "pygments_lexer": "ipython3",
   "version": "3.8.5"
  }
 },
 "nbformat": 4,
 "nbformat_minor": 5
}
